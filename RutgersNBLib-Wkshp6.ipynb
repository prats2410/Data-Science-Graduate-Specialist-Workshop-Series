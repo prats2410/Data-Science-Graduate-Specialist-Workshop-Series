{
 "cells": [
  {
   "cell_type": "markdown",
   "id": "9ee32f5a",
   "metadata": {},
   "source": [
    "# NumPy: Numerical Python\n",
    "50x faster than Python lists | One of the most popular libraries for Data Science | Working with Arrays"
   ]
  },
  {
   "cell_type": "code",
   "execution_count": 1,
   "id": "44d8f8cc",
   "metadata": {},
   "outputs": [],
   "source": [
    "import numpy as np"
   ]
  },
  {
   "cell_type": "code",
   "execution_count": null,
   "id": "017d9c41",
   "metadata": {},
   "outputs": [],
   "source": [
    "# this will show you all functions within a library\n",
    "\n",
    "np.#tab"
   ]
  },
  {
   "cell_type": "code",
   "execution_count": 326,
   "id": "dd14899a",
   "metadata": {},
   "outputs": [],
   "source": [
    "# this shows you documentation/info for a function\n",
    "\n",
    "np.min?"
   ]
  },
  {
   "cell_type": "markdown",
   "id": "e690949e",
   "metadata": {},
   "source": [
    "### 1. Creation"
   ]
  },
  {
   "cell_type": "code",
   "execution_count": 4,
   "id": "6d5044c3",
   "metadata": {},
   "outputs": [
    {
     "data": {
      "text/plain": [
       "array([1, 2, 3])"
      ]
     },
     "execution_count": 4,
     "metadata": {},
     "output_type": "execute_result"
    }
   ],
   "source": [
    "# From lists\n",
    "\n",
    "arr1 = np.array([1,2,3])\n",
    "arr1"
   ]
  },
  {
   "cell_type": "code",
   "execution_count": 9,
   "id": "18d515d0",
   "metadata": {},
   "outputs": [
    {
     "data": {
      "text/plain": [
       "array(['cherry', '1', '2', '3'], dtype='<U21')"
      ]
     },
     "execution_count": 9,
     "metadata": {},
     "output_type": "execute_result"
    }
   ],
   "source": [
    "l1 = ['cherry', 1, 2, 3]\n",
    "l2 = [7.9, 1, 2, 3]\n",
    "\n",
    "arr2 = np.array(l1)\n",
    "arr2"
   ]
  },
  {
   "cell_type": "code",
   "execution_count": 10,
   "id": "e3c5138a",
   "metadata": {},
   "outputs": [
    {
     "data": {
      "text/plain": [
       "array([7.9, 1. , 2. , 3. ])"
      ]
     },
     "execution_count": 10,
     "metadata": {},
     "output_type": "execute_result"
    }
   ],
   "source": [
    "arr3 = np.array(l2)\n",
    "arr3"
   ]
  },
  {
   "cell_type": "code",
   "execution_count": 11,
   "id": "956ce947",
   "metadata": {},
   "outputs": [
    {
     "data": {
      "text/plain": [
       "array([1., 2., 3.], dtype=float32)"
      ]
     },
     "execution_count": 11,
     "metadata": {},
     "output_type": "execute_result"
    }
   ],
   "source": [
    "arr4 = np.array([1,2,3], dtype = 'float32')\n",
    "arr4"
   ]
  },
  {
   "cell_type": "code",
   "execution_count": 330,
   "id": "260e47bf",
   "metadata": {},
   "outputs": [
    {
     "data": {
      "text/plain": [
       "array([[0, 0, 0, 0],\n",
       "       [1, 1, 1, 1],\n",
       "       [2, 2, 2, 2],\n",
       "       [3, 3, 3, 3]])"
      ]
     },
     "execution_count": 330,
     "metadata": {},
     "output_type": "execute_result"
    }
   ],
   "source": [
    "# From lists + loops\n",
    "\n",
    "arr5 = np.array([[i, i, i, i] for i in range(4)])\n",
    "arr5"
   ]
  },
  {
   "cell_type": "code",
   "execution_count": 31,
   "id": "cec0937c",
   "metadata": {},
   "outputs": [
    {
     "name": "stdout",
     "output_type": "stream",
     "text": [
      "[[0. 0. 0.]\n",
      " [0. 0. 0.]]\n",
      "\n",
      "[0. 0. 0. 0. 0. 0. 0. 0. 0. 0.]\n",
      "\n",
      "[[[0 0 0 0]\n",
      "  [0 0 0 0]\n",
      "  [0 0 0 0]\n",
      "  [0 0 0 0]]\n",
      "\n",
      " [[0 0 0 0]\n",
      "  [0 0 0 0]\n",
      "  [0 0 0 0]\n",
      "  [0 0 0 0]]\n",
      "\n",
      " [[0 0 0 0]\n",
      "  [0 0 0 0]\n",
      "  [0 0 0 0]\n",
      "  [0 0 0 0]]\n",
      "\n",
      " [[0 0 0 0]\n",
      "  [0 0 0 0]\n",
      "  [0 0 0 0]\n",
      "  [0 0 0 0]]]\n"
     ]
    }
   ],
   "source": [
    "# From numpy functions\n",
    "\n",
    "print(np.zeros((2,3))) # Syntax: np.zeros(<shape of the matrix array in tuple format>)\n",
    "print()\n",
    "print(np.zeros(10)) # Alternate Syntax: np.zeros(<number of elements in a 1-D array>)\n",
    "print()\n",
    "print(np.zeros((4,4,4), dtype = 'int'))"
   ]
  },
  {
   "cell_type": "code",
   "execution_count": 327,
   "id": "aa84fa8a",
   "metadata": {},
   "outputs": [
    {
     "data": {
      "text/plain": [
       "array([[1, 1, 1, 1, 1, 1, 1, 1, 1, 1],\n",
       "       [1, 1, 1, 1, 1, 1, 1, 1, 1, 1],\n",
       "       [1, 1, 1, 1, 1, 1, 1, 1, 1, 1],\n",
       "       [1, 1, 1, 1, 1, 1, 1, 1, 1, 1],\n",
       "       [1, 1, 1, 1, 1, 1, 1, 1, 1, 1],\n",
       "       [1, 1, 1, 1, 1, 1, 1, 1, 1, 1],\n",
       "       [1, 1, 1, 1, 1, 1, 1, 1, 1, 1],\n",
       "       [1, 1, 1, 1, 1, 1, 1, 1, 1, 1],\n",
       "       [1, 1, 1, 1, 1, 1, 1, 1, 1, 1],\n",
       "       [1, 1, 1, 1, 1, 1, 1, 1, 1, 1],\n",
       "       [1, 1, 1, 1, 1, 1, 1, 1, 1, 1],\n",
       "       [1, 1, 1, 1, 1, 1, 1, 1, 1, 1]])"
      ]
     },
     "execution_count": 327,
     "metadata": {},
     "output_type": "execute_result"
    }
   ],
   "source": [
    "np.ones((12,10), dtype = 'int')\n",
    "# same usage as np.zeros"
   ]
  },
  {
   "cell_type": "code",
   "execution_count": 40,
   "id": "a5d0acb1",
   "metadata": {},
   "outputs": [
    {
     "name": "stdout",
     "output_type": "stream",
     "text": [
      "[[1. 0. 0. 0. 0.]\n",
      " [0. 1. 0. 0. 0.]\n",
      " [0. 0. 1. 0. 0.]\n",
      " [0. 0. 0. 1. 0.]\n",
      " [0. 0. 0. 0. 1.]]\n",
      "\n",
      "[[1 0 0 0 0]\n",
      " [0 1 0 0 0]\n",
      " [0 0 1 0 0]\n",
      " [0 0 0 1 0]\n",
      " [0 0 0 0 1]]\n"
     ]
    }
   ],
   "source": [
    "print(np.eye(5))\n",
    "# this will give an error - np.eye((5,4)), np.eye((5,5))\n",
    "print()\n",
    "print(np.eye(5, dtype = 'int'))"
   ]
  },
  {
   "cell_type": "code",
   "execution_count": 47,
   "id": "7cc23927",
   "metadata": {},
   "outputs": [
    {
     "name": "stdout",
     "output_type": "stream",
     "text": [
      "[[5.e-324 0.e+000 0.e+000 0.e+000 0.e+000]\n",
      " [0.e+000 5.e-324 0.e+000 0.e+000 0.e+000]\n",
      " [0.e+000 0.e+000 5.e-324 0.e+000 0.e+000]\n",
      " [0.e+000 0.e+000 0.e+000 5.e-324 0.e+000]\n",
      " [0.e+000 0.e+000 0.e+000 0.e+000 5.e-324]]\n",
      "\n",
      "[ 6.17779239e-31 -1.23555848e-30  3.08889620e-31 -1.23555848e-30\n",
      "  2.68733969e-30 -8.34001973e-31  3.08889620e-31 -8.34001973e-31\n",
      "  4.78778910e-31]\n"
     ]
    }
   ],
   "source": [
    "# gives garbage values at a memory location\n",
    "print(np.empty((5, 5)))\n",
    "print()\n",
    "print(np.empty(9))\n",
    "# same usage as np.ones, np.zeros"
   ]
  },
  {
   "cell_type": "code",
   "execution_count": 52,
   "id": "9cb03308",
   "metadata": {},
   "outputs": [
    {
     "name": "stdout",
     "output_type": "stream",
     "text": [
      "[0 1 2 3 4 5 6 7 8 9]\n",
      "\n",
      "[2 4 6 8]\n"
     ]
    }
   ],
   "source": [
    "print(np.arange(10))\n",
    "# this will give an error - np.arange((6,7))\n",
    "print()\n",
    "print(np.arange(2, 10, 2))\n",
    "\n",
    "# usage similar to python range function"
   ]
  },
  {
   "cell_type": "code",
   "execution_count": 66,
   "id": "0147c999",
   "metadata": {},
   "outputs": [
    {
     "name": "stdout",
     "output_type": "stream",
     "text": [
      "[[3 3 3 3]\n",
      " [3 3 3 3]\n",
      " [3 3 3 3]]\n",
      "[['cherry' 'cherry' 'cherry' 'cherry']\n",
      " ['cherry' 'cherry' 'cherry' 'cherry']\n",
      " ['cherry' 'cherry' 'cherry' 'cherry']]\n"
     ]
    }
   ],
   "source": [
    "print(np.full((3,4), 3)) # Syntax: np.full(<array shape>, <fill value>)\n",
    "print(np.full((3,4), 'cherry'))"
   ]
  },
  {
   "cell_type": "code",
   "execution_count": 328,
   "id": "dacb3418",
   "metadata": {},
   "outputs": [],
   "source": [
    "np.random.random?"
   ]
  },
  {
   "cell_type": "code",
   "execution_count": 93,
   "id": "b49a60c6",
   "metadata": {},
   "outputs": [
    {
     "name": "stdout",
     "output_type": "stream",
     "text": [
      "[0.71206317 0.12241386 0.51656857 0.74826087 0.65190418 0.74370732\n",
      " 0.38587298 0.35255598 0.38059149 0.48737814]\n",
      "\n",
      "[[0.99158468 0.33029427]\n",
      " [0.02879279 0.59932106]]\n",
      "\n",
      "[[15 14]\n",
      " [17 15]\n",
      " [17 16]\n",
      " [14 19]\n",
      " [14 12]]\n"
     ]
    }
   ],
   "source": [
    "print(np.random.random(10))\n",
    "print()\n",
    "print(np.random.random((2,2)))\n",
    "# this will give an error - np.random.random((2,2), dtype = 'int')\n",
    "# np.random.normal has similar usage, takes numbers from a normal distributions\n",
    "# np.random.uniform samples from a uniform distribution\n",
    "\n",
    "# Instead, use\n",
    "print()\n",
    "print(np.random.randint(10, 20, (5,2))) # Syntax: np.random.randint(low, high, shape/size)"
   ]
  },
  {
   "cell_type": "code",
   "execution_count": 89,
   "id": "d565248f",
   "metadata": {},
   "outputs": [],
   "source": [
    "np.random.randint?"
   ]
  },
  {
   "cell_type": "markdown",
   "id": "75bd014f",
   "metadata": {},
   "source": [
    "### 2. Checking shape/number of dimensions & reshaping"
   ]
  },
  {
   "cell_type": "code",
   "execution_count": 331,
   "id": "b4878d3e",
   "metadata": {},
   "outputs": [
    {
     "data": {
      "text/plain": [
       "array([[0, 0, 0, 0],\n",
       "       [1, 1, 1, 1],\n",
       "       [2, 2, 2, 2],\n",
       "       [3, 3, 3, 3]])"
      ]
     },
     "execution_count": 331,
     "metadata": {},
     "output_type": "execute_result"
    }
   ],
   "source": [
    "arr5"
   ]
  },
  {
   "cell_type": "code",
   "execution_count": 332,
   "id": "f413feae",
   "metadata": {},
   "outputs": [
    {
     "data": {
      "text/plain": [
       "(4, 4)"
      ]
     },
     "execution_count": 332,
     "metadata": {},
     "output_type": "execute_result"
    }
   ],
   "source": [
    "arr5.shape"
   ]
  },
  {
   "cell_type": "code",
   "execution_count": 333,
   "id": "c9d75db1",
   "metadata": {},
   "outputs": [
    {
     "data": {
      "text/plain": [
       "(3,)"
      ]
     },
     "execution_count": 333,
     "metadata": {},
     "output_type": "execute_result"
    }
   ],
   "source": [
    "arr1.shape"
   ]
  },
  {
   "cell_type": "code",
   "execution_count": 23,
   "id": "684a5b91",
   "metadata": {},
   "outputs": [
    {
     "name": "stdout",
     "output_type": "stream",
     "text": [
      "1\n",
      "2\n"
     ]
    }
   ],
   "source": [
    "print(arr1.ndim)\n",
    "print(arr5.ndim)"
   ]
  },
  {
   "cell_type": "code",
   "execution_count": 55,
   "id": "6ae36177",
   "metadata": {},
   "outputs": [
    {
     "data": {
      "text/plain": [
       "array([[0, 0, 0, 0],\n",
       "       [1, 1, 1, 1],\n",
       "       [2, 2, 2, 2],\n",
       "       [3, 3, 3, 3]])"
      ]
     },
     "execution_count": 55,
     "metadata": {},
     "output_type": "execute_result"
    }
   ],
   "source": [
    "arr5"
   ]
  },
  {
   "cell_type": "code",
   "execution_count": 58,
   "id": "a22006d6",
   "metadata": {},
   "outputs": [
    {
     "data": {
      "text/plain": [
       "array([[0, 0],\n",
       "       [0, 0],\n",
       "       [1, 1],\n",
       "       [1, 1],\n",
       "       [2, 2],\n",
       "       [2, 2],\n",
       "       [3, 3],\n",
       "       [3, 3]])"
      ]
     },
     "execution_count": 58,
     "metadata": {},
     "output_type": "execute_result"
    }
   ],
   "source": [
    "arr5.reshape(8,2)\n",
    "# this will give an error - arr5.reshape(10,2)"
   ]
  },
  {
   "cell_type": "code",
   "execution_count": 60,
   "id": "a9507f61",
   "metadata": {},
   "outputs": [
    {
     "data": {
      "text/plain": [
       "array([[2, 4],\n",
       "       [6, 8]])"
      ]
     },
     "execution_count": 60,
     "metadata": {},
     "output_type": "execute_result"
    }
   ],
   "source": [
    "# you will often see people use this\n",
    "np.arange(2, 10, 2).reshape(2,2)"
   ]
  },
  {
   "cell_type": "markdown",
   "id": "054d113c",
   "metadata": {},
   "source": [
    "### 3.  Accessing & Subsetting"
   ]
  },
  {
   "cell_type": "code",
   "execution_count": 68,
   "id": "7998098d",
   "metadata": {},
   "outputs": [
    {
     "data": {
      "text/plain": [
       "array([[0, 0, 0, 0],\n",
       "       [1, 1, 1, 1],\n",
       "       [2, 2, 2, 2],\n",
       "       [3, 3, 3, 3]])"
      ]
     },
     "execution_count": 68,
     "metadata": {},
     "output_type": "execute_result"
    }
   ],
   "source": [
    "arr5"
   ]
  },
  {
   "cell_type": "code",
   "execution_count": 72,
   "id": "a2e3a17c",
   "metadata": {},
   "outputs": [
    {
     "name": "stdout",
     "output_type": "stream",
     "text": [
      "[0 0 0 0]\n",
      "0\n",
      "[[0 0 0 0]\n",
      " [1 1 1 1]]\n"
     ]
    }
   ],
   "source": [
    "print(arr5[0]) # gives you a row on that index\n",
    "print(arr5[0,1]) # gives you value on row,column index provided\n",
    "print(arr5[0:2,]) # gives you row start:end-1, all columns"
   ]
  },
  {
   "cell_type": "code",
   "execution_count": 73,
   "id": "2dd6145c",
   "metadata": {},
   "outputs": [
    {
     "data": {
      "text/plain": [
       "array([1, 2, 3])"
      ]
     },
     "execution_count": 73,
     "metadata": {},
     "output_type": "execute_result"
    }
   ],
   "source": [
    "arr1"
   ]
  },
  {
   "cell_type": "code",
   "execution_count": 75,
   "id": "a477c83b",
   "metadata": {},
   "outputs": [
    {
     "data": {
      "text/plain": [
       "array([1, 2])"
      ]
     },
     "execution_count": 75,
     "metadata": {},
     "output_type": "execute_result"
    }
   ],
   "source": [
    "arr1[:2] # gives you all values till end-1 index\n",
    "# similar to python list accessing with start, end, step format "
   ]
  },
  {
   "cell_type": "code",
   "execution_count": 77,
   "id": "532c06c1",
   "metadata": {},
   "outputs": [
    {
     "data": {
      "text/plain": [
       "array([3, 2, 1])"
      ]
     },
     "execution_count": 77,
     "metadata": {},
     "output_type": "execute_result"
    }
   ],
   "source": [
    "arr1[::-1] # similar to python list accessing"
   ]
  },
  {
   "cell_type": "markdown",
   "id": "c2af433d",
   "metadata": {},
   "source": [
    "### 4. Setting a value"
   ]
  },
  {
   "cell_type": "code",
   "execution_count": 94,
   "id": "65f1d8b0",
   "metadata": {},
   "outputs": [
    {
     "data": {
      "text/plain": [
       "array([[0, 0, 0, 0],\n",
       "       [1, 1, 1, 1],\n",
       "       [2, 2, 2, 2],\n",
       "       [3, 3, 3, 3]])"
      ]
     },
     "execution_count": 94,
     "metadata": {},
     "output_type": "execute_result"
    }
   ],
   "source": [
    "arr5"
   ]
  },
  {
   "cell_type": "code",
   "execution_count": 96,
   "id": "ff34c663",
   "metadata": {},
   "outputs": [
    {
     "data": {
      "text/plain": [
       "array([[ 0,  0,  0,  0],\n",
       "       [ 1,  1,  1,  1],\n",
       "       [16, 16, 16, 16],\n",
       "       [ 3,  3,  3,  3]])"
      ]
     },
     "execution_count": 96,
     "metadata": {},
     "output_type": "execute_result"
    }
   ],
   "source": [
    "arr5[2] = 16\n",
    "arr5"
   ]
  },
  {
   "cell_type": "code",
   "execution_count": 98,
   "id": "8f698ee0",
   "metadata": {},
   "outputs": [
    {
     "data": {
      "text/plain": [
       "array([[ 0,  0,  0,  0],\n",
       "       [ 1,  1,  1,  1],\n",
       "       [16, 16, 16, 16],\n",
       "       [ 3, 24,  3,  3]])"
      ]
     },
     "execution_count": 98,
     "metadata": {},
     "output_type": "execute_result"
    }
   ],
   "source": [
    "arr5[3,1] = 24\n",
    "arr5"
   ]
  },
  {
   "cell_type": "code",
   "execution_count": 99,
   "id": "743310b1",
   "metadata": {},
   "outputs": [],
   "source": [
    "arr5[0:2, 2:3] = -1\n",
    "# rows 0, 1\n",
    "# columns 2"
   ]
  },
  {
   "cell_type": "code",
   "execution_count": 100,
   "id": "a9e7d3f7",
   "metadata": {},
   "outputs": [
    {
     "data": {
      "text/plain": [
       "array([[ 0,  0, -1,  0],\n",
       "       [ 1,  1, -1,  1],\n",
       "       [16, 16, 16, 16],\n",
       "       [ 3, 24,  3,  3]])"
      ]
     },
     "execution_count": 100,
     "metadata": {},
     "output_type": "execute_result"
    }
   ],
   "source": [
    "arr5"
   ]
  },
  {
   "cell_type": "markdown",
   "id": "d8131002",
   "metadata": {},
   "source": [
    "### 5. Concatenating"
   ]
  },
  {
   "cell_type": "code",
   "execution_count": 104,
   "id": "3d290135",
   "metadata": {},
   "outputs": [
    {
     "name": "stdout",
     "output_type": "stream",
     "text": [
      "[[ 0  0 -1  0]\n",
      " [ 1  1 -1  1]\n",
      " [16 16 16 16]\n",
      " [ 3 24  3  3]\n",
      " [ 0  0 -1  0]\n",
      " [ 1  1 -1  1]\n",
      " [16 16 16 16]\n",
      " [ 3 24  3  3]]\n",
      "\n",
      "[[ 0  0 -1  0  0  0 -1  0]\n",
      " [ 1  1 -1  1  1  1 -1  1]\n",
      " [16 16 16 16 16 16 16 16]\n",
      " [ 3 24  3  3  3 24  3  3]]\n"
     ]
    }
   ],
   "source": [
    "# this will give an error - np.concatenate(arr5, arr5)\n",
    "print(np.concatenate([arr5, arr5]))\n",
    "print()\n",
    "print(np.concatenate([arr5, arr5], axis = 1))"
   ]
  },
  {
   "cell_type": "code",
   "execution_count": 110,
   "id": "33769f53",
   "metadata": {},
   "outputs": [
    {
     "name": "stdout",
     "output_type": "stream",
     "text": [
      "[[ 0  0 -1  0  0  0 -1  0]\n",
      " [ 1  1 -1  1  1  1 -1  1]\n",
      " [16 16 16 16 16 16 16 16]\n",
      " [ 3 24  3  3  3 24  3  3]]\n",
      "\n",
      "[[ 0  0 -1  0]\n",
      " [ 1  1 -1  1]\n",
      " [16 16 16 16]\n",
      " [ 3 24  3  3]\n",
      " [ 0  0 -1  0]\n",
      " [ 1  1 -1  1]\n",
      " [16 16 16 16]\n",
      " [ 3 24  3  3]]\n"
     ]
    }
   ],
   "source": [
    "# this will give an error - np.hstack(np.array([1,2,3,4]), arr5)\n",
    "print(np.hstack([arr5, arr5]))\n",
    "print()\n",
    "print(np.vstack([arr5, arr5]))"
   ]
  },
  {
   "cell_type": "markdown",
   "id": "2e2a85f1",
   "metadata": {},
   "source": [
    "### 6. Numerical Operations"
   ]
  },
  {
   "cell_type": "code",
   "execution_count": 113,
   "id": "e8e1c07c",
   "metadata": {},
   "outputs": [
    {
     "data": {
      "text/plain": [
       "array([[ 0,  0, -1,  0],\n",
       "       [ 1,  1, -1,  1],\n",
       "       [16, 16, 16, 16],\n",
       "       [ 3, 24,  3,  3]])"
      ]
     },
     "execution_count": 113,
     "metadata": {},
     "output_type": "execute_result"
    }
   ],
   "source": [
    "arr5"
   ]
  },
  {
   "cell_type": "code",
   "execution_count": 147,
   "id": "a131c2cb",
   "metadata": {},
   "outputs": [
    {
     "name": "stdout",
     "output_type": "stream",
     "text": [
      "98\n",
      "[20 41 17 20]\n",
      "[-1  2 64 33]\n",
      "[20 41 17 20]\n"
     ]
    }
   ],
   "source": [
    "print(arr5.sum())\n",
    "print(arr5.sum(axis = 0))\n",
    "print(arr5.sum(axis = 1))\n",
    "print(np.sum(arr5, axis = 0)) # Alternate syntax"
   ]
  },
  {
   "cell_type": "code",
   "execution_count": null,
   "id": "02ddb3d8",
   "metadata": {},
   "outputs": [],
   "source": []
  },
  {
   "cell_type": "code",
   "execution_count": 114,
   "id": "50219c1f",
   "metadata": {},
   "outputs": [
    {
     "data": {
      "text/plain": [
       "-1"
      ]
     },
     "execution_count": 114,
     "metadata": {},
     "output_type": "execute_result"
    }
   ],
   "source": [
    "arr5.min()"
   ]
  },
  {
   "cell_type": "code",
   "execution_count": 115,
   "id": "d018bc90",
   "metadata": {},
   "outputs": [
    {
     "data": {
      "text/plain": [
       "24"
      ]
     },
     "execution_count": 115,
     "metadata": {},
     "output_type": "execute_result"
    }
   ],
   "source": [
    "arr5.max()"
   ]
  },
  {
   "cell_type": "code",
   "execution_count": 116,
   "id": "21735127",
   "metadata": {},
   "outputs": [
    {
     "data": {
      "text/plain": [
       "6.125"
      ]
     },
     "execution_count": 116,
     "metadata": {},
     "output_type": "execute_result"
    }
   ],
   "source": [
    "arr5.mean()"
   ]
  },
  {
   "cell_type": "code",
   "execution_count": 121,
   "id": "626e0542",
   "metadata": {},
   "outputs": [
    {
     "name": "stdout",
     "output_type": "stream",
     "text": [
      "[ 5.   10.25  4.25  5.  ]\n",
      "\n",
      "[-0.25  0.5  16.    8.25]\n"
     ]
    }
   ],
   "source": [
    "print(arr5.mean(axis = 0))\n",
    "print()\n",
    "print(arr5.mean(axis = 1))"
   ]
  },
  {
   "cell_type": "code",
   "execution_count": 122,
   "id": "0dd378ca",
   "metadata": {},
   "outputs": [
    {
     "data": {
      "text/plain": [
       "array([[ 0,  1, 16,  3],\n",
       "       [ 0,  1, 16, 24],\n",
       "       [-1, -1, 16,  3],\n",
       "       [ 0,  1, 16,  3]])"
      ]
     },
     "execution_count": 122,
     "metadata": {},
     "output_type": "execute_result"
    }
   ],
   "source": [
    "arr5.T"
   ]
  },
  {
   "cell_type": "code",
   "execution_count": 137,
   "id": "5e013c77",
   "metadata": {},
   "outputs": [
    {
     "name": "stdout",
     "output_type": "stream",
     "text": [
      "[[10 10  9 10]\n",
      " [11 11  9 11]\n",
      " [26 26 26 26]\n",
      " [13 34 13 13]] \n",
      "\n",
      "[[  0   0 -10   0]\n",
      " [ 10  10 -10  10]\n",
      " [160 160 160 160]\n",
      " [ 30 240  30  30]] \n",
      "\n",
      "[[    0     0    -1     0]\n",
      " [    1     1    -1     1]\n",
      " [ 4096  4096  4096  4096]\n",
      " [   27 13824    27    27]] \n",
      "\n",
      "[[  0   0  -6   0]\n",
      " [  6   6  -6   6]\n",
      " [ 96  96  96  96]\n",
      " [ 18 144  18  18]] \n",
      "\n",
      "[[ 0.          0.         -0.33333333  0.        ]\n",
      " [ 0.33333333  0.33333333 -0.33333333  0.33333333]\n",
      " [ 5.33333333  5.33333333  5.33333333  5.33333333]\n",
      " [ 1.          8.          1.          1.        ]] \n",
      "\n",
      "[[ 0  0 -1  0]\n",
      " [ 0  0 -1  0]\n",
      " [ 5  5  5  5]\n",
      " [ 1  8  1  1]] \n",
      "\n",
      "[[0 0 2 0]\n",
      " [1 1 2 1]\n",
      " [1 1 1 1]\n",
      " [0 0 0 0]] \n",
      "\n"
     ]
    }
   ],
   "source": [
    "# regular matrix operations\n",
    "print(arr5+10, \"\\n\")\n",
    "print(arr5*10, \"\\n\")\n",
    "print(arr5**3, \"\\n\")\n",
    "print(arr5 + 5*arr5, \"\\n\")\n",
    "print(arr5 / 3, \"\\n\")\n",
    "print(arr5 // 3, \"\\n\")\n",
    "print(arr5 % 3, \"\\n\")"
   ]
  },
  {
   "attachments": {
    "image.png": {
     "image/png": "[encoded data removed]"
    }
   },
   "cell_type": "markdown",
   "id": "e88b239b",
   "metadata": {},
   "source": [
    "![image.png](attachment:image.png)"
   ]
  },
  {
   "cell_type": "code",
   "execution_count": 133,
   "id": "2c09f6ce",
   "metadata": {},
   "outputs": [
    {
     "name": "stdout",
     "output_type": "stream",
     "text": [
      "[[  0   0   1   0]\n",
      " [  1   1   1   1]\n",
      " [256 256 256 256]\n",
      " [  9 576   9   9]] \n",
      "\n",
      "[ 42 105  40  42] \n",
      "\n"
     ]
    }
   ],
   "source": [
    "print(arr5 * arr5, \"\\n\")\n",
    "print(np.dot(np.arange(4), arr5), \"\\n\")"
   ]
  },
  {
   "cell_type": "code",
   "execution_count": 138,
   "id": "99dde3b4",
   "metadata": {},
   "outputs": [
    {
     "data": {
      "text/plain": [
       "array([[ 0,  0,  1,  0],\n",
       "       [ 1,  1,  1,  1],\n",
       "       [16, 16, 16, 16],\n",
       "       [ 3, 24,  3,  3]])"
      ]
     },
     "execution_count": 138,
     "metadata": {},
     "output_type": "execute_result"
    }
   ],
   "source": [
    "np.abs(arr5)"
   ]
  },
  {
   "cell_type": "code",
   "execution_count": 139,
   "id": "3a1ee67b",
   "metadata": {},
   "outputs": [
    {
     "data": {
      "text/plain": [
       "array([ 2.71828183,  7.3890561 , 20.08553692])"
      ]
     },
     "execution_count": 139,
     "metadata": {},
     "output_type": "execute_result"
    }
   ],
   "source": [
    "np.exp(arr1)"
   ]
  },
  {
   "cell_type": "code",
   "execution_count": 140,
   "id": "028e684f",
   "metadata": {},
   "outputs": [
    {
     "data": {
      "text/plain": [
       "array([0.        , 0.69314718, 1.09861229])"
      ]
     },
     "execution_count": 140,
     "metadata": {},
     "output_type": "execute_result"
    }
   ],
   "source": [
    "np.log(arr1)"
   ]
  },
  {
   "cell_type": "markdown",
   "id": "c1b2204d",
   "metadata": {},
   "source": [
    "# Pandas"
   ]
  },
  {
   "cell_type": "code",
   "execution_count": 148,
   "id": "c1ef87bc",
   "metadata": {},
   "outputs": [],
   "source": [
    "import pandas as pd"
   ]
  },
  {
   "cell_type": "markdown",
   "id": "70fa0d0b",
   "metadata": {},
   "source": [
    "### 1. Creation of a Dataframe"
   ]
  },
  {
   "cell_type": "code",
   "execution_count": 335,
   "id": "94e2b88f",
   "metadata": {},
   "outputs": [
    {
     "name": "stdout",
     "output_type": "stream",
     "text": [
      "     a   asq   acube\n",
      "0    0     0       0\n",
      "1    1     1       1\n",
      "2    2     4       8\n",
      "3    3     9      27\n",
      "4    4    16      64\n",
      "..  ..   ...     ...\n",
      "95  95  9025  857375\n",
      "96  96  9216  884736\n",
      "97  97  9409  912673\n",
      "98  98  9604  941192\n",
      "99  99  9801  970299\n",
      "\n",
      "[100 rows x 3 columns]\n",
      "   a  asq  acube\n",
      "0  0    0      0\n",
      "1  1    1      1\n",
      "2  2    4      8\n",
      "3  3    9     27\n",
      "4  4   16     64\n",
      "   a  asq  acube\n",
      "0  0    0      0\n",
      "1  1    1      1\n",
      "2  2    4      8\n",
      "3  3    9     27\n",
      "4  4   16     64\n",
      "5  5   25    125\n",
      "6  6   36    216\n",
      "7  7   49    343\n",
      "     a   asq   acube\n",
      "93  93  8649  804357\n",
      "94  94  8836  830584\n",
      "95  95  9025  857375\n",
      "96  96  9216  884736\n",
      "97  97  9409  912673\n",
      "98  98  9604  941192\n",
      "99  99  9801  970299\n"
     ]
    }
   ],
   "source": [
    "df = pd.DataFrame( {'a': [i for i in range(100)], 'asq': [i**2 for i in range(100)], \n",
    "                    'acube': [i**3 for i in range(100)]})\n",
    "print(df)\n",
    "print(df.head())    # top 5 rows\n",
    "print(df.head(8))\n",
    "print(df.tail(7))"
   ]
  },
  {
   "cell_type": "code",
   "execution_count": 159,
   "id": "46584627",
   "metadata": {},
   "outputs": [
    {
     "data": {
      "text/plain": [
       "(pandas.core.frame.DataFrame,\n",
       " a        int64\n",
       " asq      int64\n",
       " acube    int64\n",
       " dtype: object,\n",
       " (100, 3))"
      ]
     },
     "execution_count": 159,
     "metadata": {},
     "output_type": "execute_result"
    }
   ],
   "source": [
    "type(df), df.dtypes, df.shape"
   ]
  },
  {
   "cell_type": "code",
   "execution_count": 164,
   "id": "1459d4a7",
   "metadata": {},
   "outputs": [
    {
     "name": "stdout",
     "output_type": "stream",
     "text": [
      "<class 'pandas.core.frame.DataFrame'>\n",
      "RangeIndex: 100 entries, 0 to 99\n",
      "Data columns (total 3 columns):\n",
      " #   Column  Non-Null Count  Dtype\n",
      "---  ------  --------------  -----\n",
      " 0   a       100 non-null    int64\n",
      " 1   asq     100 non-null    int64\n",
      " 2   acube   100 non-null    int64\n",
      "dtypes: int64(3)\n",
      "memory usage: 2.5 KB\n"
     ]
    }
   ],
   "source": [
    "df.info()"
   ]
  },
  {
   "cell_type": "code",
   "execution_count": 162,
   "id": "42551700",
   "metadata": {},
   "outputs": [
    {
     "data": {
      "text/html": [
       "<div>\n",
       "<style scoped>\n",
       "    .dataframe tbody tr th:only-of-type {\n",
       "        vertical-align: middle;\n",
       "    }\n",
       "\n",
       "    .dataframe tbody tr th {\n",
       "        vertical-align: top;\n",
       "    }\n",
       "\n",
       "    .dataframe thead th {\n",
       "        text-align: right;\n",
       "    }\n",
       "</style>\n",
       "<table border=\"1\" class=\"dataframe\">\n",
       "  <thead>\n",
       "    <tr style=\"text-align: right;\">\n",
       "      <th></th>\n",
       "      <th>a</th>\n",
       "      <th>asq</th>\n",
       "      <th>acube</th>\n",
       "    </tr>\n",
       "  </thead>\n",
       "  <tbody>\n",
       "    <tr>\n",
       "      <th>count</th>\n",
       "      <td>100.000000</td>\n",
       "      <td>100.000000</td>\n",
       "      <td>100.000000</td>\n",
       "    </tr>\n",
       "    <tr>\n",
       "      <th>mean</th>\n",
       "      <td>49.500000</td>\n",
       "      <td>3283.500000</td>\n",
       "      <td>245025.000000</td>\n",
       "    </tr>\n",
       "    <tr>\n",
       "      <th>std</th>\n",
       "      <td>29.011492</td>\n",
       "      <td>2968.174804</td>\n",
       "      <td>280457.581671</td>\n",
       "    </tr>\n",
       "    <tr>\n",
       "      <th>min</th>\n",
       "      <td>0.000000</td>\n",
       "      <td>0.000000</td>\n",
       "      <td>0.000000</td>\n",
       "    </tr>\n",
       "    <tr>\n",
       "      <th>25%</th>\n",
       "      <td>24.750000</td>\n",
       "      <td>612.750000</td>\n",
       "      <td>15174.750000</td>\n",
       "    </tr>\n",
       "    <tr>\n",
       "      <th>50%</th>\n",
       "      <td>49.500000</td>\n",
       "      <td>2450.500000</td>\n",
       "      <td>121324.500000</td>\n",
       "    </tr>\n",
       "    <tr>\n",
       "      <th>75%</th>\n",
       "      <td>74.250000</td>\n",
       "      <td>5513.250000</td>\n",
       "      <td>409386.750000</td>\n",
       "    </tr>\n",
       "    <tr>\n",
       "      <th>max</th>\n",
       "      <td>99.000000</td>\n",
       "      <td>9801.000000</td>\n",
       "      <td>970299.000000</td>\n",
       "    </tr>\n",
       "  </tbody>\n",
       "</table>\n",
       "</div>"
      ],
      "text/plain": [
       "                a          asq          acube\n",
       "count  100.000000   100.000000     100.000000\n",
       "mean    49.500000  3283.500000  245025.000000\n",
       "std     29.011492  2968.174804  280457.581671\n",
       "min      0.000000     0.000000       0.000000\n",
       "25%     24.750000   612.750000   15174.750000\n",
       "50%     49.500000  2450.500000  121324.500000\n",
       "75%     74.250000  5513.250000  409386.750000\n",
       "max     99.000000  9801.000000  970299.000000"
      ]
     },
     "execution_count": 162,
     "metadata": {},
     "output_type": "execute_result"
    }
   ],
   "source": [
    "df.describe()"
   ]
  },
  {
   "cell_type": "code",
   "execution_count": 219,
   "id": "15470a54",
   "metadata": {},
   "outputs": [
    {
     "data": {
      "text/html": [
       "<div>\n",
       "<style scoped>\n",
       "    .dataframe tbody tr th:only-of-type {\n",
       "        vertical-align: middle;\n",
       "    }\n",
       "\n",
       "    .dataframe tbody tr th {\n",
       "        vertical-align: top;\n",
       "    }\n",
       "\n",
       "    .dataframe thead th {\n",
       "        text-align: right;\n",
       "    }\n",
       "</style>\n",
       "<table border=\"1\" class=\"dataframe\">\n",
       "  <thead>\n",
       "    <tr style=\"text-align: right;\">\n",
       "      <th></th>\n",
       "      <th>first</th>\n",
       "      <th>second</th>\n",
       "      <th>third</th>\n",
       "    </tr>\n",
       "  </thead>\n",
       "  <tbody>\n",
       "    <tr>\n",
       "      <th>ohio</th>\n",
       "      <td>0</td>\n",
       "      <td>1</td>\n",
       "      <td>2</td>\n",
       "    </tr>\n",
       "    <tr>\n",
       "      <th>texas</th>\n",
       "      <td>3</td>\n",
       "      <td>4</td>\n",
       "      <td>5</td>\n",
       "    </tr>\n",
       "    <tr>\n",
       "      <th>new jersey</th>\n",
       "      <td>6</td>\n",
       "      <td>7</td>\n",
       "      <td>8</td>\n",
       "    </tr>\n",
       "    <tr>\n",
       "      <th>new york</th>\n",
       "      <td>9</td>\n",
       "      <td>10</td>\n",
       "      <td>11</td>\n",
       "    </tr>\n",
       "    <tr>\n",
       "      <th>pennsylvania</th>\n",
       "      <td>12</td>\n",
       "      <td>13</td>\n",
       "      <td>14</td>\n",
       "    </tr>\n",
       "    <tr>\n",
       "      <th>chicago</th>\n",
       "      <td>15</td>\n",
       "      <td>16</td>\n",
       "      <td>17</td>\n",
       "    </tr>\n",
       "  </tbody>\n",
       "</table>\n",
       "</div>"
      ],
      "text/plain": [
       "              first  second  third\n",
       "ohio              0       1      2\n",
       "texas             3       4      5\n",
       "new jersey        6       7      8\n",
       "new york          9      10     11\n",
       "pennsylvania     12      13     14\n",
       "chicago          15      16     17"
      ]
     },
     "execution_count": 219,
     "metadata": {},
     "output_type": "execute_result"
    }
   ],
   "source": [
    "arr6 = np.arange(18).reshape(6, 3) #\n",
    "# create dataframe specifying column names and indices\n",
    "dfnew = pd.DataFrame(arr6, index = ['ohio', 'texas', 'new jersey', 'new york', 'pennsylvania', 'chicago'], \n",
    "                    columns = ['first', 'second', 'third'])\n",
    "dfnew"
   ]
  },
  {
   "cell_type": "markdown",
   "id": "ef03860a",
   "metadata": {},
   "source": [
    "### 2. Accessing & Subsetting"
   ]
  },
  {
   "cell_type": "code",
   "execution_count": 170,
   "id": "b49c9ac0",
   "metadata": {},
   "outputs": [
    {
     "name": "stdout",
     "output_type": "stream",
     "text": [
      "     a   asq   acube\n",
      "95  95  9025  857375\n",
      "96  96  9216  884736\n",
      "97  97  9409  912673\n",
      "98  98  9604  941192\n",
      "99  99  9801  970299\n",
      "95    9025\n",
      "96    9216\n",
      "97    9409\n",
      "98    9604\n",
      "99    9801\n",
      "Name: asq, dtype: int64\n",
      "     a  acube\n",
      "24  24  13824\n",
      "25  25  15625\n",
      "26  26  17576\n",
      "27  27  19683\n",
      "28  28  21952\n",
      "29  29  24389\n",
      "30  30  27000\n",
      "   a  asq  acube\n",
      "0  0    0      0\n",
      "1  1    1      1\n",
      "2  2    4      8\n",
      "3  3    9     27\n",
      "4  4   16     64\n",
      "5  5   25    125\n"
     ]
    }
   ],
   "source": [
    "print(df[95:])\n",
    "print(df[95:]['asq'])\n",
    "print(df[['a', 'acube']][24:31])\n",
    "\n",
    "colnames = ['a', 'asq', 'acube']\n",
    "print(df[colnames][:6])"
   ]
  },
  {
   "cell_type": "code",
   "execution_count": 191,
   "id": "c8dbffd4",
   "metadata": {},
   "outputs": [
    {
     "name": "stdout",
     "output_type": "stream",
     "text": [
      "            first  second  third\n",
      "ohio            0       1      2\n",
      "new york        9      10     11\n",
      "new jersey      6       7      8\n",
      "              first  second  third\n",
      "texas             3       4      5\n",
      "new york          9      10     11\n",
      "pennsylvania     12      13     14\n"
     ]
    }
   ],
   "source": [
    "print(dfnew.loc[['ohio', 'new york', 'new jersey']]) # by name\n",
    "print(dfnew.iloc[[1, 3, 4]]) # by underlying index number"
   ]
  },
  {
   "cell_type": "code",
   "execution_count": 173,
   "id": "612ae9f9",
   "metadata": {},
   "outputs": [
    {
     "data": {
      "text/plain": [
       "Index(['a', 'asq', 'acube'], dtype='object')"
      ]
     },
     "execution_count": 173,
     "metadata": {},
     "output_type": "execute_result"
    }
   ],
   "source": [
    "df.columns"
   ]
  },
  {
   "cell_type": "code",
   "execution_count": 175,
   "id": "a90e1e9d",
   "metadata": {},
   "outputs": [
    {
     "data": {
      "text/plain": [
       "(RangeIndex(start=0, stop=100, step=1),\n",
       " Index(['ohio', 'texas', 'new jersey', 'new york', 'pennsylvania', 'chicago'], dtype='object'))"
      ]
     },
     "execution_count": 175,
     "metadata": {},
     "output_type": "execute_result"
    }
   ],
   "source": [
    "df.index, dfnew.index"
   ]
  },
  {
   "cell_type": "markdown",
   "id": "3a1eb056",
   "metadata": {},
   "source": [
    "### 3. Numerical stats"
   ]
  },
  {
   "cell_type": "code",
   "execution_count": 180,
   "id": "f5b82c87",
   "metadata": {},
   "outputs": [
    {
     "name": "stdout",
     "output_type": "stream",
     "text": [
      "49.5\n",
      "2968.1748039269296\n"
     ]
    }
   ],
   "source": [
    "print(df['a'].median())\n",
    "print(df['asq'].std())\n",
    "\n",
    "# Similar to ones we have seen with Numpy"
   ]
  },
  {
   "cell_type": "markdown",
   "id": "7d527745",
   "metadata": {},
   "source": [
    "### 4. Filter rows based on condition"
   ]
  },
  {
   "cell_type": "code",
   "execution_count": 179,
   "id": "37dc0579",
   "metadata": {},
   "outputs": [
    {
     "data": {
      "text/html": [
       "<div>\n",
       "<style scoped>\n",
       "    .dataframe tbody tr th:only-of-type {\n",
       "        vertical-align: middle;\n",
       "    }\n",
       "\n",
       "    .dataframe tbody tr th {\n",
       "        vertical-align: top;\n",
       "    }\n",
       "\n",
       "    .dataframe thead th {\n",
       "        text-align: right;\n",
       "    }\n",
       "</style>\n",
       "<table border=\"1\" class=\"dataframe\">\n",
       "  <thead>\n",
       "    <tr style=\"text-align: right;\">\n",
       "      <th></th>\n",
       "      <th>a</th>\n",
       "      <th>asq</th>\n",
       "      <th>acube</th>\n",
       "    </tr>\n",
       "  </thead>\n",
       "  <tbody>\n",
       "    <tr>\n",
       "      <th>4</th>\n",
       "      <td>4</td>\n",
       "      <td>16</td>\n",
       "      <td>64</td>\n",
       "    </tr>\n",
       "    <tr>\n",
       "      <th>5</th>\n",
       "      <td>5</td>\n",
       "      <td>25</td>\n",
       "      <td>125</td>\n",
       "    </tr>\n",
       "    <tr>\n",
       "      <th>6</th>\n",
       "      <td>6</td>\n",
       "      <td>36</td>\n",
       "      <td>216</td>\n",
       "    </tr>\n",
       "    <tr>\n",
       "      <th>7</th>\n",
       "      <td>7</td>\n",
       "      <td>49</td>\n",
       "      <td>343</td>\n",
       "    </tr>\n",
       "    <tr>\n",
       "      <th>8</th>\n",
       "      <td>8</td>\n",
       "      <td>64</td>\n",
       "      <td>512</td>\n",
       "    </tr>\n",
       "    <tr>\n",
       "      <th>...</th>\n",
       "      <td>...</td>\n",
       "      <td>...</td>\n",
       "      <td>...</td>\n",
       "    </tr>\n",
       "    <tr>\n",
       "      <th>95</th>\n",
       "      <td>95</td>\n",
       "      <td>9025</td>\n",
       "      <td>857375</td>\n",
       "    </tr>\n",
       "    <tr>\n",
       "      <th>96</th>\n",
       "      <td>96</td>\n",
       "      <td>9216</td>\n",
       "      <td>884736</td>\n",
       "    </tr>\n",
       "    <tr>\n",
       "      <th>97</th>\n",
       "      <td>97</td>\n",
       "      <td>9409</td>\n",
       "      <td>912673</td>\n",
       "    </tr>\n",
       "    <tr>\n",
       "      <th>98</th>\n",
       "      <td>98</td>\n",
       "      <td>9604</td>\n",
       "      <td>941192</td>\n",
       "    </tr>\n",
       "    <tr>\n",
       "      <th>99</th>\n",
       "      <td>99</td>\n",
       "      <td>9801</td>\n",
       "      <td>970299</td>\n",
       "    </tr>\n",
       "  </tbody>\n",
       "</table>\n",
       "<p>96 rows × 3 columns</p>\n",
       "</div>"
      ],
      "text/plain": [
       "     a   asq   acube\n",
       "4    4    16      64\n",
       "5    5    25     125\n",
       "6    6    36     216\n",
       "7    7    49     343\n",
       "8    8    64     512\n",
       "..  ..   ...     ...\n",
       "95  95  9025  857375\n",
       "96  96  9216  884736\n",
       "97  97  9409  912673\n",
       "98  98  9604  941192\n",
       "99  99  9801  970299\n",
       "\n",
       "[96 rows x 3 columns]"
      ]
     },
     "execution_count": 179,
     "metadata": {},
     "output_type": "execute_result"
    }
   ],
   "source": [
    "# Syntax: df[<condition>]\n",
    "# Condition Synatx: for eg. df['acube'] > 60\n",
    "# this is called masking\n",
    "\n",
    "df[df['acube']>60]\n",
    "\n",
    "# Once you master pulling data, just set it to your desired value"
   ]
  },
  {
   "cell_type": "markdown",
   "id": "8957640b",
   "metadata": {},
   "source": [
    "### 5. Dropping/Removing Rows & Columns"
   ]
  },
  {
   "cell_type": "code",
   "execution_count": 220,
   "id": "0a23e223",
   "metadata": {},
   "outputs": [
    {
     "name": "stdout",
     "output_type": "stream",
     "text": [
      "              first  second  third\n",
      "ohio              0       1      2\n",
      "texas             3       4      5\n",
      "new york          9      10     11\n",
      "pennsylvania     12      13     14\n",
      "chicago          15      16     17\n",
      "     a   asq   acube\n",
      "0    0     0       0\n",
      "1    1     1       1\n",
      "2    2     4       8\n",
      "4    4    16      64\n",
      "5    5    25     125\n",
      "..  ..   ...     ...\n",
      "95  95  9025  857375\n",
      "96  96  9216  884736\n",
      "97  97  9409  912673\n",
      "98  98  9604  941192\n",
      "99  99  9801  970299\n",
      "\n",
      "[99 rows x 3 columns]\n"
     ]
    },
    {
     "data": {
      "text/html": [
       "<div>\n",
       "<style scoped>\n",
       "    .dataframe tbody tr th:only-of-type {\n",
       "        vertical-align: middle;\n",
       "    }\n",
       "\n",
       "    .dataframe tbody tr th {\n",
       "        vertical-align: top;\n",
       "    }\n",
       "\n",
       "    .dataframe thead th {\n",
       "        text-align: right;\n",
       "    }\n",
       "</style>\n",
       "<table border=\"1\" class=\"dataframe\">\n",
       "  <thead>\n",
       "    <tr style=\"text-align: right;\">\n",
       "      <th></th>\n",
       "      <th>a</th>\n",
       "      <th>asq</th>\n",
       "      <th>acube</th>\n",
       "    </tr>\n",
       "  </thead>\n",
       "  <tbody>\n",
       "    <tr>\n",
       "      <th>4</th>\n",
       "      <td>4</td>\n",
       "      <td>16</td>\n",
       "      <td>64</td>\n",
       "    </tr>\n",
       "    <tr>\n",
       "      <th>5</th>\n",
       "      <td>5</td>\n",
       "      <td>25</td>\n",
       "      <td>125</td>\n",
       "    </tr>\n",
       "    <tr>\n",
       "      <th>6</th>\n",
       "      <td>6</td>\n",
       "      <td>36</td>\n",
       "      <td>216</td>\n",
       "    </tr>\n",
       "    <tr>\n",
       "      <th>7</th>\n",
       "      <td>7</td>\n",
       "      <td>49</td>\n",
       "      <td>343</td>\n",
       "    </tr>\n",
       "    <tr>\n",
       "      <th>8</th>\n",
       "      <td>8</td>\n",
       "      <td>64</td>\n",
       "      <td>512</td>\n",
       "    </tr>\n",
       "    <tr>\n",
       "      <th>...</th>\n",
       "      <td>...</td>\n",
       "      <td>...</td>\n",
       "      <td>...</td>\n",
       "    </tr>\n",
       "    <tr>\n",
       "      <th>95</th>\n",
       "      <td>95</td>\n",
       "      <td>9025</td>\n",
       "      <td>857375</td>\n",
       "    </tr>\n",
       "    <tr>\n",
       "      <th>96</th>\n",
       "      <td>96</td>\n",
       "      <td>9216</td>\n",
       "      <td>884736</td>\n",
       "    </tr>\n",
       "    <tr>\n",
       "      <th>97</th>\n",
       "      <td>97</td>\n",
       "      <td>9409</td>\n",
       "      <td>912673</td>\n",
       "    </tr>\n",
       "    <tr>\n",
       "      <th>98</th>\n",
       "      <td>98</td>\n",
       "      <td>9604</td>\n",
       "      <td>941192</td>\n",
       "    </tr>\n",
       "    <tr>\n",
       "      <th>99</th>\n",
       "      <td>99</td>\n",
       "      <td>9801</td>\n",
       "      <td>970299</td>\n",
       "    </tr>\n",
       "  </tbody>\n",
       "</table>\n",
       "<p>96 rows × 3 columns</p>\n",
       "</div>"
      ],
      "text/plain": [
       "     a   asq   acube\n",
       "4    4    16      64\n",
       "5    5    25     125\n",
       "6    6    36     216\n",
       "7    7    49     343\n",
       "8    8    64     512\n",
       "..  ..   ...     ...\n",
       "95  95  9025  857375\n",
       "96  96  9216  884736\n",
       "97  97  9409  912673\n",
       "98  98  9604  941192\n",
       "99  99  9801  970299\n",
       "\n",
       "[96 rows x 3 columns]"
      ]
     },
     "execution_count": 220,
     "metadata": {},
     "output_type": "execute_result"
    }
   ],
   "source": [
    "# dropping row by index\n",
    "\n",
    "dfnew_1 = dfnew.drop(['new jersey']) # axis = 0 is optional (default)\n",
    "print(dfnew_1)\n",
    "\n",
    "print(df.drop(3))\n",
    "\n",
    "# You will see people often do this too\n",
    "dfnew_2 = df[df['acube']>60]\n",
    "dfnew_2"
   ]
  },
  {
   "cell_type": "code",
   "execution_count": 221,
   "id": "5b6644db",
   "metadata": {},
   "outputs": [
    {
     "name": "stdout",
     "output_type": "stream",
     "text": [
      "d1\n",
      "               first  third\n",
      "ohio              0      2\n",
      "texas             3      5\n",
      "new jersey        6      8\n",
      "new york          9     11\n",
      "pennsylvania     12     14\n",
      "chicago          15     17\n",
      "\n",
      "d2\n",
      "               second\n",
      "ohio               1\n",
      "texas              4\n",
      "new jersey         7\n",
      "new york          10\n",
      "pennsylvania      13\n",
      "chicago           16\n"
     ]
    }
   ],
   "source": [
    "# drop 1 column\n",
    "d1 = dfnew.drop('second', axis = 1)\n",
    "print(\"d1\\n\", d1)\n",
    "\n",
    "# drop multiple columns\n",
    "d2 = dfnew.drop(['first', 'third'], axis = 1)\n",
    "print(\"\\nd2\\n\", d2)"
   ]
  },
  {
   "cell_type": "code",
   "execution_count": 208,
   "id": "ccab3307",
   "metadata": {},
   "outputs": [
    {
     "data": {
      "text/html": [
       "<div>\n",
       "<style scoped>\n",
       "    .dataframe tbody tr th:only-of-type {\n",
       "        vertical-align: middle;\n",
       "    }\n",
       "\n",
       "    .dataframe tbody tr th {\n",
       "        vertical-align: top;\n",
       "    }\n",
       "\n",
       "    .dataframe thead th {\n",
       "        text-align: right;\n",
       "    }\n",
       "</style>\n",
       "<table border=\"1\" class=\"dataframe\">\n",
       "  <thead>\n",
       "    <tr style=\"text-align: right;\">\n",
       "      <th></th>\n",
       "      <th>a</th>\n",
       "      <th>acube</th>\n",
       "    </tr>\n",
       "  </thead>\n",
       "  <tbody>\n",
       "    <tr>\n",
       "      <th>4</th>\n",
       "      <td>4</td>\n",
       "      <td>64</td>\n",
       "    </tr>\n",
       "    <tr>\n",
       "      <th>5</th>\n",
       "      <td>5</td>\n",
       "      <td>125</td>\n",
       "    </tr>\n",
       "    <tr>\n",
       "      <th>6</th>\n",
       "      <td>6</td>\n",
       "      <td>216</td>\n",
       "    </tr>\n",
       "    <tr>\n",
       "      <th>7</th>\n",
       "      <td>7</td>\n",
       "      <td>343</td>\n",
       "    </tr>\n",
       "    <tr>\n",
       "      <th>8</th>\n",
       "      <td>8</td>\n",
       "      <td>512</td>\n",
       "    </tr>\n",
       "    <tr>\n",
       "      <th>...</th>\n",
       "      <td>...</td>\n",
       "      <td>...</td>\n",
       "    </tr>\n",
       "    <tr>\n",
       "      <th>95</th>\n",
       "      <td>95</td>\n",
       "      <td>857375</td>\n",
       "    </tr>\n",
       "    <tr>\n",
       "      <th>96</th>\n",
       "      <td>96</td>\n",
       "      <td>884736</td>\n",
       "    </tr>\n",
       "    <tr>\n",
       "      <th>97</th>\n",
       "      <td>97</td>\n",
       "      <td>912673</td>\n",
       "    </tr>\n",
       "    <tr>\n",
       "      <th>98</th>\n",
       "      <td>98</td>\n",
       "      <td>941192</td>\n",
       "    </tr>\n",
       "    <tr>\n",
       "      <th>99</th>\n",
       "      <td>99</td>\n",
       "      <td>970299</td>\n",
       "    </tr>\n",
       "  </tbody>\n",
       "</table>\n",
       "<p>96 rows × 2 columns</p>\n",
       "</div>"
      ],
      "text/plain": [
       "     a   acube\n",
       "4    4      64\n",
       "5    5     125\n",
       "6    6     216\n",
       "7    7     343\n",
       "8    8     512\n",
       "..  ..     ...\n",
       "95  95  857375\n",
       "96  96  884736\n",
       "97  97  912673\n",
       "98  98  941192\n",
       "99  99  970299\n",
       "\n",
       "[96 rows x 2 columns]"
      ]
     },
     "execution_count": 208,
     "metadata": {},
     "output_type": "execute_result"
    }
   ],
   "source": [
    "df[df['acube']>60].drop('asq', axis = 1)"
   ]
  },
  {
   "cell_type": "markdown",
   "id": "774f301d",
   "metadata": {},
   "source": [
    "### 6. Null & Nones\n",
    "\n",
    "NAN = Not A Number   \n",
    "NA = Not Available   "
   ]
  },
  {
   "cell_type": "code",
   "execution_count": 222,
   "id": "6eb5acbc",
   "metadata": {},
   "outputs": [
    {
     "data": {
      "text/html": [
       "<div>\n",
       "<style scoped>\n",
       "    .dataframe tbody tr th:only-of-type {\n",
       "        vertical-align: middle;\n",
       "    }\n",
       "\n",
       "    .dataframe tbody tr th {\n",
       "        vertical-align: top;\n",
       "    }\n",
       "\n",
       "    .dataframe thead th {\n",
       "        text-align: right;\n",
       "    }\n",
       "</style>\n",
       "<table border=\"1\" class=\"dataframe\">\n",
       "  <thead>\n",
       "    <tr style=\"text-align: right;\">\n",
       "      <th></th>\n",
       "      <th>first</th>\n",
       "      <th>second</th>\n",
       "      <th>third</th>\n",
       "    </tr>\n",
       "  </thead>\n",
       "  <tbody>\n",
       "    <tr>\n",
       "      <th>ohio</th>\n",
       "      <td>0</td>\n",
       "      <td>1</td>\n",
       "      <td>2</td>\n",
       "    </tr>\n",
       "    <tr>\n",
       "      <th>texas</th>\n",
       "      <td>3</td>\n",
       "      <td>4</td>\n",
       "      <td>5</td>\n",
       "    </tr>\n",
       "    <tr>\n",
       "      <th>new jersey</th>\n",
       "      <td>6</td>\n",
       "      <td>7</td>\n",
       "      <td>8</td>\n",
       "    </tr>\n",
       "    <tr>\n",
       "      <th>new york</th>\n",
       "      <td>9</td>\n",
       "      <td>10</td>\n",
       "      <td>11</td>\n",
       "    </tr>\n",
       "    <tr>\n",
       "      <th>pennsylvania</th>\n",
       "      <td>12</td>\n",
       "      <td>13</td>\n",
       "      <td>14</td>\n",
       "    </tr>\n",
       "    <tr>\n",
       "      <th>chicago</th>\n",
       "      <td>15</td>\n",
       "      <td>16</td>\n",
       "      <td>17</td>\n",
       "    </tr>\n",
       "  </tbody>\n",
       "</table>\n",
       "</div>"
      ],
      "text/plain": [
       "              first  second  third\n",
       "ohio              0       1      2\n",
       "texas             3       4      5\n",
       "new jersey        6       7      8\n",
       "new york          9      10     11\n",
       "pennsylvania     12      13     14\n",
       "chicago          15      16     17"
      ]
     },
     "execution_count": 222,
     "metadata": {},
     "output_type": "execute_result"
    }
   ],
   "source": [
    "dfnew"
   ]
  },
  {
   "cell_type": "code",
   "execution_count": 336,
   "id": "3f43f156",
   "metadata": {},
   "outputs": [
    {
     "data": {
      "text/html": [
       "<div>\n",
       "<style scoped>\n",
       "    .dataframe tbody tr th:only-of-type {\n",
       "        vertical-align: middle;\n",
       "    }\n",
       "\n",
       "    .dataframe tbody tr th {\n",
       "        vertical-align: top;\n",
       "    }\n",
       "\n",
       "    .dataframe thead th {\n",
       "        text-align: right;\n",
       "    }\n",
       "</style>\n",
       "<table border=\"1\" class=\"dataframe\">\n",
       "  <thead>\n",
       "    <tr style=\"text-align: right;\">\n",
       "      <th></th>\n",
       "      <th>a</th>\n",
       "      <th>asq</th>\n",
       "      <th>acube</th>\n",
       "    </tr>\n",
       "  </thead>\n",
       "  <tbody>\n",
       "    <tr>\n",
       "      <th>0</th>\n",
       "      <td>0</td>\n",
       "      <td>0</td>\n",
       "      <td>0</td>\n",
       "    </tr>\n",
       "    <tr>\n",
       "      <th>1</th>\n",
       "      <td>1</td>\n",
       "      <td>1</td>\n",
       "      <td>1</td>\n",
       "    </tr>\n",
       "    <tr>\n",
       "      <th>2</th>\n",
       "      <td>2</td>\n",
       "      <td>4</td>\n",
       "      <td>8</td>\n",
       "    </tr>\n",
       "    <tr>\n",
       "      <th>3</th>\n",
       "      <td>3</td>\n",
       "      <td>9</td>\n",
       "      <td>27</td>\n",
       "    </tr>\n",
       "    <tr>\n",
       "      <th>4</th>\n",
       "      <td>4</td>\n",
       "      <td>16</td>\n",
       "      <td>64</td>\n",
       "    </tr>\n",
       "    <tr>\n",
       "      <th>...</th>\n",
       "      <td>...</td>\n",
       "      <td>...</td>\n",
       "      <td>...</td>\n",
       "    </tr>\n",
       "    <tr>\n",
       "      <th>95</th>\n",
       "      <td>95</td>\n",
       "      <td>9025</td>\n",
       "      <td>857375</td>\n",
       "    </tr>\n",
       "    <tr>\n",
       "      <th>96</th>\n",
       "      <td>96</td>\n",
       "      <td>9216</td>\n",
       "      <td>884736</td>\n",
       "    </tr>\n",
       "    <tr>\n",
       "      <th>97</th>\n",
       "      <td>97</td>\n",
       "      <td>9409</td>\n",
       "      <td>912673</td>\n",
       "    </tr>\n",
       "    <tr>\n",
       "      <th>98</th>\n",
       "      <td>98</td>\n",
       "      <td>9604</td>\n",
       "      <td>941192</td>\n",
       "    </tr>\n",
       "    <tr>\n",
       "      <th>99</th>\n",
       "      <td>99</td>\n",
       "      <td>9801</td>\n",
       "      <td>970299</td>\n",
       "    </tr>\n",
       "  </tbody>\n",
       "</table>\n",
       "<p>100 rows × 3 columns</p>\n",
       "</div>"
      ],
      "text/plain": [
       "     a   asq   acube\n",
       "0    0     0       0\n",
       "1    1     1       1\n",
       "2    2     4       8\n",
       "3    3     9      27\n",
       "4    4    16      64\n",
       "..  ..   ...     ...\n",
       "95  95  9025  857375\n",
       "96  96  9216  884736\n",
       "97  97  9409  912673\n",
       "98  98  9604  941192\n",
       "99  99  9801  970299\n",
       "\n",
       "[100 rows x 3 columns]"
      ]
     },
     "execution_count": 336,
     "metadata": {},
     "output_type": "execute_result"
    }
   ],
   "source": [
    "df"
   ]
  },
  {
   "cell_type": "code",
   "execution_count": 229,
   "id": "070ea498",
   "metadata": {},
   "outputs": [],
   "source": [
    "df['a'][:10] = None"
   ]
  },
  {
   "cell_type": "code",
   "execution_count": 230,
   "id": "61c6a137",
   "metadata": {},
   "outputs": [
    {
     "data": {
      "text/html": [
       "<div>\n",
       "<style scoped>\n",
       "    .dataframe tbody tr th:only-of-type {\n",
       "        vertical-align: middle;\n",
       "    }\n",
       "\n",
       "    .dataframe tbody tr th {\n",
       "        vertical-align: top;\n",
       "    }\n",
       "\n",
       "    .dataframe thead th {\n",
       "        text-align: right;\n",
       "    }\n",
       "</style>\n",
       "<table border=\"1\" class=\"dataframe\">\n",
       "  <thead>\n",
       "    <tr style=\"text-align: right;\">\n",
       "      <th></th>\n",
       "      <th>a</th>\n",
       "      <th>asq</th>\n",
       "      <th>acube</th>\n",
       "    </tr>\n",
       "  </thead>\n",
       "  <tbody>\n",
       "    <tr>\n",
       "      <th>0</th>\n",
       "      <td>NaN</td>\n",
       "      <td>0</td>\n",
       "      <td>0</td>\n",
       "    </tr>\n",
       "    <tr>\n",
       "      <th>1</th>\n",
       "      <td>NaN</td>\n",
       "      <td>1</td>\n",
       "      <td>1</td>\n",
       "    </tr>\n",
       "    <tr>\n",
       "      <th>2</th>\n",
       "      <td>NaN</td>\n",
       "      <td>4</td>\n",
       "      <td>8</td>\n",
       "    </tr>\n",
       "    <tr>\n",
       "      <th>3</th>\n",
       "      <td>NaN</td>\n",
       "      <td>9</td>\n",
       "      <td>27</td>\n",
       "    </tr>\n",
       "    <tr>\n",
       "      <th>4</th>\n",
       "      <td>NaN</td>\n",
       "      <td>16</td>\n",
       "      <td>64</td>\n",
       "    </tr>\n",
       "    <tr>\n",
       "      <th>...</th>\n",
       "      <td>...</td>\n",
       "      <td>...</td>\n",
       "      <td>...</td>\n",
       "    </tr>\n",
       "    <tr>\n",
       "      <th>95</th>\n",
       "      <td>95.0</td>\n",
       "      <td>9025</td>\n",
       "      <td>857375</td>\n",
       "    </tr>\n",
       "    <tr>\n",
       "      <th>96</th>\n",
       "      <td>96.0</td>\n",
       "      <td>9216</td>\n",
       "      <td>884736</td>\n",
       "    </tr>\n",
       "    <tr>\n",
       "      <th>97</th>\n",
       "      <td>97.0</td>\n",
       "      <td>9409</td>\n",
       "      <td>912673</td>\n",
       "    </tr>\n",
       "    <tr>\n",
       "      <th>98</th>\n",
       "      <td>98.0</td>\n",
       "      <td>9604</td>\n",
       "      <td>941192</td>\n",
       "    </tr>\n",
       "    <tr>\n",
       "      <th>99</th>\n",
       "      <td>99.0</td>\n",
       "      <td>9801</td>\n",
       "      <td>970299</td>\n",
       "    </tr>\n",
       "  </tbody>\n",
       "</table>\n",
       "<p>100 rows × 3 columns</p>\n",
       "</div>"
      ],
      "text/plain": [
       "       a   asq   acube\n",
       "0    NaN     0       0\n",
       "1    NaN     1       1\n",
       "2    NaN     4       8\n",
       "3    NaN     9      27\n",
       "4    NaN    16      64\n",
       "..   ...   ...     ...\n",
       "95  95.0  9025  857375\n",
       "96  96.0  9216  884736\n",
       "97  97.0  9409  912673\n",
       "98  98.0  9604  941192\n",
       "99  99.0  9801  970299\n",
       "\n",
       "[100 rows x 3 columns]"
      ]
     },
     "execution_count": 230,
     "metadata": {},
     "output_type": "execute_result"
    }
   ],
   "source": [
    "df"
   ]
  },
  {
   "cell_type": "code",
   "execution_count": 231,
   "id": "22e18d83",
   "metadata": {},
   "outputs": [
    {
     "data": {
      "text/html": [
       "<div>\n",
       "<style scoped>\n",
       "    .dataframe tbody tr th:only-of-type {\n",
       "        vertical-align: middle;\n",
       "    }\n",
       "\n",
       "    .dataframe tbody tr th {\n",
       "        vertical-align: top;\n",
       "    }\n",
       "\n",
       "    .dataframe thead th {\n",
       "        text-align: right;\n",
       "    }\n",
       "</style>\n",
       "<table border=\"1\" class=\"dataframe\">\n",
       "  <thead>\n",
       "    <tr style=\"text-align: right;\">\n",
       "      <th></th>\n",
       "      <th>a</th>\n",
       "      <th>asq</th>\n",
       "      <th>acube</th>\n",
       "    </tr>\n",
       "  </thead>\n",
       "  <tbody>\n",
       "    <tr>\n",
       "      <th>0</th>\n",
       "      <td>True</td>\n",
       "      <td>False</td>\n",
       "      <td>False</td>\n",
       "    </tr>\n",
       "    <tr>\n",
       "      <th>1</th>\n",
       "      <td>True</td>\n",
       "      <td>False</td>\n",
       "      <td>False</td>\n",
       "    </tr>\n",
       "    <tr>\n",
       "      <th>2</th>\n",
       "      <td>True</td>\n",
       "      <td>False</td>\n",
       "      <td>False</td>\n",
       "    </tr>\n",
       "    <tr>\n",
       "      <th>3</th>\n",
       "      <td>True</td>\n",
       "      <td>False</td>\n",
       "      <td>False</td>\n",
       "    </tr>\n",
       "    <tr>\n",
       "      <th>4</th>\n",
       "      <td>True</td>\n",
       "      <td>False</td>\n",
       "      <td>False</td>\n",
       "    </tr>\n",
       "    <tr>\n",
       "      <th>...</th>\n",
       "      <td>...</td>\n",
       "      <td>...</td>\n",
       "      <td>...</td>\n",
       "    </tr>\n",
       "    <tr>\n",
       "      <th>95</th>\n",
       "      <td>False</td>\n",
       "      <td>False</td>\n",
       "      <td>False</td>\n",
       "    </tr>\n",
       "    <tr>\n",
       "      <th>96</th>\n",
       "      <td>False</td>\n",
       "      <td>False</td>\n",
       "      <td>False</td>\n",
       "    </tr>\n",
       "    <tr>\n",
       "      <th>97</th>\n",
       "      <td>False</td>\n",
       "      <td>False</td>\n",
       "      <td>False</td>\n",
       "    </tr>\n",
       "    <tr>\n",
       "      <th>98</th>\n",
       "      <td>False</td>\n",
       "      <td>False</td>\n",
       "      <td>False</td>\n",
       "    </tr>\n",
       "    <tr>\n",
       "      <th>99</th>\n",
       "      <td>False</td>\n",
       "      <td>False</td>\n",
       "      <td>False</td>\n",
       "    </tr>\n",
       "  </tbody>\n",
       "</table>\n",
       "<p>100 rows × 3 columns</p>\n",
       "</div>"
      ],
      "text/plain": [
       "        a    asq  acube\n",
       "0    True  False  False\n",
       "1    True  False  False\n",
       "2    True  False  False\n",
       "3    True  False  False\n",
       "4    True  False  False\n",
       "..    ...    ...    ...\n",
       "95  False  False  False\n",
       "96  False  False  False\n",
       "97  False  False  False\n",
       "98  False  False  False\n",
       "99  False  False  False\n",
       "\n",
       "[100 rows x 3 columns]"
      ]
     },
     "execution_count": 231,
     "metadata": {},
     "output_type": "execute_result"
    }
   ],
   "source": [
    "df.isnull()"
   ]
  },
  {
   "cell_type": "code",
   "execution_count": 234,
   "id": "5998f71a",
   "metadata": {},
   "outputs": [
    {
     "name": "stdout",
     "output_type": "stream",
     "text": [
      "       a   asq   acube\n",
      "10  10.0   100    1000\n",
      "11  11.0   121    1331\n",
      "12  12.0   144    1728\n",
      "13  13.0   169    2197\n",
      "14  14.0   196    2744\n",
      "..   ...   ...     ...\n",
      "95  95.0  9025  857375\n",
      "96  96.0  9216  884736\n",
      "97  97.0  9409  912673\n",
      "98  98.0  9604  941192\n",
      "99  99.0  9801  970299\n",
      "\n",
      "[90 rows x 3 columns] \n",
      "\n",
      "        a   asq  acube\n",
      "0   False  True   True\n",
      "1   False  True   True\n",
      "2   False  True   True\n",
      "3   False  True   True\n",
      "4   False  True   True\n",
      "..    ...   ...    ...\n",
      "95   True  True   True\n",
      "96   True  True   True\n",
      "97   True  True   True\n",
      "98   True  True   True\n",
      "99   True  True   True\n",
      "\n",
      "[100 rows x 3 columns] \n",
      "\n",
      "       a   asq   acube\n",
      "0    NaN     0       0\n",
      "1    NaN     1       1\n",
      "2    NaN     4       8\n",
      "3    NaN     9      27\n",
      "4    NaN    16      64\n",
      "..   ...   ...     ...\n",
      "95  95.0  9025  857375\n",
      "96  96.0  9216  884736\n",
      "97  97.0  9409  912673\n",
      "98  98.0  9604  941192\n",
      "99  99.0  9801  970299\n",
      "\n",
      "[100 rows x 3 columns] \n",
      "\n",
      "10\n"
     ]
    }
   ],
   "source": [
    "print(df.dropna(), \"\\n\")\n",
    "print(df.notnull(), \"\\n\")\n",
    "print(df[df.notnull()], \"\\n\")\n",
    "print(len(df) - len(df.dropna()))"
   ]
  },
  {
   "cell_type": "code",
   "execution_count": 238,
   "id": "0728ada2",
   "metadata": {},
   "outputs": [
    {
     "name": "stderr",
     "output_type": "stream",
     "text": [
      "/var/folders/th/kfdlbxqj5c319dkt47c53f080000gn/T/ipykernel_37948/3615306842.py:2: SettingWithCopyWarning: \n",
      "A value is trying to be set on a copy of a slice from a DataFrame\n",
      "\n",
      "See the caveats in the documentation: https://pandas.pydata.org/pandas-docs/stable/user_guide/indexing.html#returning-a-view-versus-a-copy\n",
      "  df['acube'][[4]] = None\n"
     ]
    },
    {
     "data": {
      "text/html": [
       "<div>\n",
       "<style scoped>\n",
       "    .dataframe tbody tr th:only-of-type {\n",
       "        vertical-align: middle;\n",
       "    }\n",
       "\n",
       "    .dataframe tbody tr th {\n",
       "        vertical-align: top;\n",
       "    }\n",
       "\n",
       "    .dataframe thead th {\n",
       "        text-align: right;\n",
       "    }\n",
       "</style>\n",
       "<table border=\"1\" class=\"dataframe\">\n",
       "  <thead>\n",
       "    <tr style=\"text-align: right;\">\n",
       "      <th></th>\n",
       "      <th>a</th>\n",
       "      <th>asq</th>\n",
       "      <th>acube</th>\n",
       "    </tr>\n",
       "  </thead>\n",
       "  <tbody>\n",
       "    <tr>\n",
       "      <th>0</th>\n",
       "      <td>NaN</td>\n",
       "      <td>0.0</td>\n",
       "      <td>0.0</td>\n",
       "    </tr>\n",
       "    <tr>\n",
       "      <th>1</th>\n",
       "      <td>NaN</td>\n",
       "      <td>NaN</td>\n",
       "      <td>1.0</td>\n",
       "    </tr>\n",
       "    <tr>\n",
       "      <th>2</th>\n",
       "      <td>NaN</td>\n",
       "      <td>4.0</td>\n",
       "      <td>8.0</td>\n",
       "    </tr>\n",
       "    <tr>\n",
       "      <th>3</th>\n",
       "      <td>NaN</td>\n",
       "      <td>NaN</td>\n",
       "      <td>27.0</td>\n",
       "    </tr>\n",
       "    <tr>\n",
       "      <th>4</th>\n",
       "      <td>NaN</td>\n",
       "      <td>NaN</td>\n",
       "      <td>NaN</td>\n",
       "    </tr>\n",
       "    <tr>\n",
       "      <th>...</th>\n",
       "      <td>...</td>\n",
       "      <td>...</td>\n",
       "      <td>...</td>\n",
       "    </tr>\n",
       "    <tr>\n",
       "      <th>95</th>\n",
       "      <td>95.0</td>\n",
       "      <td>9025.0</td>\n",
       "      <td>857375.0</td>\n",
       "    </tr>\n",
       "    <tr>\n",
       "      <th>96</th>\n",
       "      <td>96.0</td>\n",
       "      <td>9216.0</td>\n",
       "      <td>884736.0</td>\n",
       "    </tr>\n",
       "    <tr>\n",
       "      <th>97</th>\n",
       "      <td>97.0</td>\n",
       "      <td>9409.0</td>\n",
       "      <td>912673.0</td>\n",
       "    </tr>\n",
       "    <tr>\n",
       "      <th>98</th>\n",
       "      <td>98.0</td>\n",
       "      <td>9604.0</td>\n",
       "      <td>941192.0</td>\n",
       "    </tr>\n",
       "    <tr>\n",
       "      <th>99</th>\n",
       "      <td>99.0</td>\n",
       "      <td>9801.0</td>\n",
       "      <td>970299.0</td>\n",
       "    </tr>\n",
       "  </tbody>\n",
       "</table>\n",
       "<p>100 rows × 3 columns</p>\n",
       "</div>"
      ],
      "text/plain": [
       "       a     asq     acube\n",
       "0    NaN     0.0       0.0\n",
       "1    NaN     NaN       1.0\n",
       "2    NaN     4.0       8.0\n",
       "3    NaN     NaN      27.0\n",
       "4    NaN     NaN       NaN\n",
       "..   ...     ...       ...\n",
       "95  95.0  9025.0  857375.0\n",
       "96  96.0  9216.0  884736.0\n",
       "97  97.0  9409.0  912673.0\n",
       "98  98.0  9604.0  941192.0\n",
       "99  99.0  9801.0  970299.0\n",
       "\n",
       "[100 rows x 3 columns]"
      ]
     },
     "execution_count": 238,
     "metadata": {},
     "output_type": "execute_result"
    }
   ],
   "source": [
    "df['asq'][[1,3,4]] = None\n",
    "df['acube'][[4]] = None\n",
    "df"
   ]
  },
  {
   "cell_type": "code",
   "execution_count": 240,
   "id": "d191cd84",
   "metadata": {},
   "outputs": [
    {
     "name": "stdout",
     "output_type": "stream",
     "text": [
      "       a     asq     acube\n",
      "0    NaN     0.0       0.0\n",
      "1    NaN     NaN       1.0\n",
      "2    NaN     4.0       8.0\n",
      "3    NaN     NaN      27.0\n",
      "5    NaN    25.0     125.0\n",
      "..   ...     ...       ...\n",
      "95  95.0  9025.0  857375.0\n",
      "96  96.0  9216.0  884736.0\n",
      "97  97.0  9409.0  912673.0\n",
      "98  98.0  9604.0  941192.0\n",
      "99  99.0  9801.0  970299.0\n",
      "\n",
      "[99 rows x 3 columns]\n"
     ]
    }
   ],
   "source": [
    "print(df.dropna(how=\"all\", axis=0))\n",
    "# check documentation for other parameters as well"
   ]
  },
  {
   "cell_type": "markdown",
   "id": "d8aabe80",
   "metadata": {},
   "source": [
    "### 7. Merging DataFrames"
   ]
  },
  {
   "cell_type": "code",
   "execution_count": 249,
   "id": "2aaac760",
   "metadata": {},
   "outputs": [
    {
     "data": {
      "text/html": [
       "<div>\n",
       "<style scoped>\n",
       "    .dataframe tbody tr th:only-of-type {\n",
       "        vertical-align: middle;\n",
       "    }\n",
       "\n",
       "    .dataframe tbody tr th {\n",
       "        vertical-align: top;\n",
       "    }\n",
       "\n",
       "    .dataframe thead th {\n",
       "        text-align: right;\n",
       "    }\n",
       "</style>\n",
       "<table border=\"1\" class=\"dataframe\">\n",
       "  <thead>\n",
       "    <tr style=\"text-align: right;\">\n",
       "      <th></th>\n",
       "      <th>first</th>\n",
       "      <th>second</th>\n",
       "      <th>third</th>\n",
       "      <th>fourth</th>\n",
       "    </tr>\n",
       "  </thead>\n",
       "  <tbody>\n",
       "    <tr>\n",
       "      <th>california</th>\n",
       "      <td>0</td>\n",
       "      <td>1</td>\n",
       "      <td>2</td>\n",
       "      <td>3</td>\n",
       "    </tr>\n",
       "    <tr>\n",
       "      <th>vegas</th>\n",
       "      <td>4</td>\n",
       "      <td>5</td>\n",
       "      <td>6</td>\n",
       "      <td>7</td>\n",
       "    </tr>\n",
       "  </tbody>\n",
       "</table>\n",
       "</div>"
      ],
      "text/plain": [
       "            first  second  third  fourth\n",
       "california      0       1      2       3\n",
       "vegas           4       5      6       7"
      ]
     },
     "execution_count": 249,
     "metadata": {},
     "output_type": "execute_result"
    }
   ],
   "source": [
    "dfnewn = pd.DataFrame(np.arange(8).reshape(2,4), columns = ['first', 'second', 'third', 'fourth'], index = ['california', 'vegas'])\n",
    "dfnewn"
   ]
  },
  {
   "cell_type": "code",
   "execution_count": 250,
   "id": "09d0b592",
   "metadata": {},
   "outputs": [
    {
     "data": {
      "text/html": [
       "<div>\n",
       "<style scoped>\n",
       "    .dataframe tbody tr th:only-of-type {\n",
       "        vertical-align: middle;\n",
       "    }\n",
       "\n",
       "    .dataframe tbody tr th {\n",
       "        vertical-align: top;\n",
       "    }\n",
       "\n",
       "    .dataframe thead th {\n",
       "        text-align: right;\n",
       "    }\n",
       "</style>\n",
       "<table border=\"1\" class=\"dataframe\">\n",
       "  <thead>\n",
       "    <tr style=\"text-align: right;\">\n",
       "      <th></th>\n",
       "      <th>first</th>\n",
       "      <th>second</th>\n",
       "      <th>third</th>\n",
       "    </tr>\n",
       "  </thead>\n",
       "  <tbody>\n",
       "    <tr>\n",
       "      <th>ohio</th>\n",
       "      <td>0</td>\n",
       "      <td>1</td>\n",
       "      <td>2</td>\n",
       "    </tr>\n",
       "    <tr>\n",
       "      <th>texas</th>\n",
       "      <td>3</td>\n",
       "      <td>4</td>\n",
       "      <td>5</td>\n",
       "    </tr>\n",
       "    <tr>\n",
       "      <th>new jersey</th>\n",
       "      <td>6</td>\n",
       "      <td>7</td>\n",
       "      <td>8</td>\n",
       "    </tr>\n",
       "    <tr>\n",
       "      <th>new york</th>\n",
       "      <td>9</td>\n",
       "      <td>10</td>\n",
       "      <td>11</td>\n",
       "    </tr>\n",
       "    <tr>\n",
       "      <th>pennsylvania</th>\n",
       "      <td>12</td>\n",
       "      <td>13</td>\n",
       "      <td>14</td>\n",
       "    </tr>\n",
       "    <tr>\n",
       "      <th>chicago</th>\n",
       "      <td>15</td>\n",
       "      <td>16</td>\n",
       "      <td>17</td>\n",
       "    </tr>\n",
       "  </tbody>\n",
       "</table>\n",
       "</div>"
      ],
      "text/plain": [
       "              first  second  third\n",
       "ohio              0       1      2\n",
       "texas             3       4      5\n",
       "new jersey        6       7      8\n",
       "new york          9      10     11\n",
       "pennsylvania     12      13     14\n",
       "chicago          15      16     17"
      ]
     },
     "execution_count": 250,
     "metadata": {},
     "output_type": "execute_result"
    }
   ],
   "source": [
    "dfnew"
   ]
  },
  {
   "cell_type": "code",
   "execution_count": 251,
   "id": "3467602e",
   "metadata": {},
   "outputs": [
    {
     "data": {
      "text/html": [
       "<div>\n",
       "<style scoped>\n",
       "    .dataframe tbody tr th:only-of-type {\n",
       "        vertical-align: middle;\n",
       "    }\n",
       "\n",
       "    .dataframe tbody tr th {\n",
       "        vertical-align: top;\n",
       "    }\n",
       "\n",
       "    .dataframe thead th {\n",
       "        text-align: right;\n",
       "    }\n",
       "</style>\n",
       "<table border=\"1\" class=\"dataframe\">\n",
       "  <thead>\n",
       "    <tr style=\"text-align: right;\">\n",
       "      <th></th>\n",
       "      <th>first</th>\n",
       "      <th>second</th>\n",
       "      <th>third</th>\n",
       "      <th>fourth</th>\n",
       "    </tr>\n",
       "  </thead>\n",
       "  <tbody>\n",
       "    <tr>\n",
       "      <th>0</th>\n",
       "      <td>0</td>\n",
       "      <td>1</td>\n",
       "      <td>2</td>\n",
       "      <td>3</td>\n",
       "    </tr>\n",
       "  </tbody>\n",
       "</table>\n",
       "</div>"
      ],
      "text/plain": [
       "   first  second  third  fourth\n",
       "0      0       1      2       3"
      ]
     },
     "execution_count": 251,
     "metadata": {},
     "output_type": "execute_result"
    }
   ],
   "source": [
    "pd.merge(dfnew, dfnewn) # this is inner join"
   ]
  },
  {
   "cell_type": "code",
   "execution_count": 255,
   "id": "9e56e422",
   "metadata": {},
   "outputs": [
    {
     "name": "stdout",
     "output_type": "stream",
     "text": [
      "   first  second  third  fourth\n",
      "0      0       1      2     3.0\n",
      "1      3       4      5     NaN\n",
      "2      6       7      8     NaN\n",
      "3      9      10     11     NaN\n",
      "4     12      13     14     NaN\n",
      "5     15      16     17     NaN\n",
      "\n",
      "    first  second  third  fourth\n",
      "0      0       1      2       3\n",
      "1      4       5      6       7\n",
      "\n",
      "    first  second  third  fourth\n",
      "0      0       1      2     3.0\n",
      "1      3       4      5     NaN\n",
      "2      6       7      8     NaN\n",
      "3      9      10     11     NaN\n",
      "4     12      13     14     NaN\n",
      "5     15      16     17     NaN\n",
      "6      4       5      6     7.0\n"
     ]
    }
   ],
   "source": [
    "print(pd.merge(dfnew, dfnewn, how = \"left\"))\n",
    "print(\"\\n\", pd.merge(dfnew, dfnewn, how = \"right\"))\n",
    "print(\"\\n\", pd.merge(dfnew, dfnewn, how = \"outer\"))"
   ]
  },
  {
   "cell_type": "markdown",
   "id": "11bde8d8",
   "metadata": {},
   "source": [
    "### 8. Reading from files"
   ]
  },
  {
   "cell_type": "code",
   "execution_count": 338,
   "id": "d26f559e",
   "metadata": {},
   "outputs": [
    {
     "data": {
      "text/html": [
       "<div>\n",
       "<style scoped>\n",
       "    .dataframe tbody tr th:only-of-type {\n",
       "        vertical-align: middle;\n",
       "    }\n",
       "\n",
       "    .dataframe tbody tr th {\n",
       "        vertical-align: top;\n",
       "    }\n",
       "\n",
       "    .dataframe thead th {\n",
       "        text-align: right;\n",
       "    }\n",
       "</style>\n",
       "<table border=\"1\" class=\"dataframe\">\n",
       "  <thead>\n",
       "    <tr style=\"text-align: right;\">\n",
       "      <th></th>\n",
       "      <th>PassengerId</th>\n",
       "      <th>Survived</th>\n",
       "      <th>Pclass</th>\n",
       "      <th>Name</th>\n",
       "      <th>Sex</th>\n",
       "      <th>Age</th>\n",
       "      <th>SibSp</th>\n",
       "      <th>Parch</th>\n",
       "      <th>Ticket</th>\n",
       "      <th>Fare</th>\n",
       "      <th>Cabin</th>\n",
       "      <th>Embarked</th>\n",
       "    </tr>\n",
       "  </thead>\n",
       "  <tbody>\n",
       "    <tr>\n",
       "      <th>0</th>\n",
       "      <td>1</td>\n",
       "      <td>0</td>\n",
       "      <td>3</td>\n",
       "      <td>Braund, Mr. Owen Harris</td>\n",
       "      <td>male</td>\n",
       "      <td>22.0</td>\n",
       "      <td>1</td>\n",
       "      <td>0</td>\n",
       "      <td>A/5 21171</td>\n",
       "      <td>7.2500</td>\n",
       "      <td>NaN</td>\n",
       "      <td>S</td>\n",
       "    </tr>\n",
       "    <tr>\n",
       "      <th>1</th>\n",
       "      <td>2</td>\n",
       "      <td>1</td>\n",
       "      <td>1</td>\n",
       "      <td>Cumings, Mrs. John Bradley (Florence Briggs Th...</td>\n",
       "      <td>female</td>\n",
       "      <td>38.0</td>\n",
       "      <td>1</td>\n",
       "      <td>0</td>\n",
       "      <td>PC 17599</td>\n",
       "      <td>71.2833</td>\n",
       "      <td>C85</td>\n",
       "      <td>C</td>\n",
       "    </tr>\n",
       "    <tr>\n",
       "      <th>2</th>\n",
       "      <td>3</td>\n",
       "      <td>1</td>\n",
       "      <td>3</td>\n",
       "      <td>Heikkinen, Miss. Laina</td>\n",
       "      <td>female</td>\n",
       "      <td>26.0</td>\n",
       "      <td>0</td>\n",
       "      <td>0</td>\n",
       "      <td>STON/O2. 3101282</td>\n",
       "      <td>7.9250</td>\n",
       "      <td>NaN</td>\n",
       "      <td>S</td>\n",
       "    </tr>\n",
       "    <tr>\n",
       "      <th>3</th>\n",
       "      <td>4</td>\n",
       "      <td>1</td>\n",
       "      <td>1</td>\n",
       "      <td>Futrelle, Mrs. Jacques Heath (Lily May Peel)</td>\n",
       "      <td>female</td>\n",
       "      <td>35.0</td>\n",
       "      <td>1</td>\n",
       "      <td>0</td>\n",
       "      <td>113803</td>\n",
       "      <td>53.1000</td>\n",
       "      <td>C123</td>\n",
       "      <td>S</td>\n",
       "    </tr>\n",
       "    <tr>\n",
       "      <th>4</th>\n",
       "      <td>5</td>\n",
       "      <td>0</td>\n",
       "      <td>3</td>\n",
       "      <td>Allen, Mr. William Henry</td>\n",
       "      <td>male</td>\n",
       "      <td>35.0</td>\n",
       "      <td>0</td>\n",
       "      <td>0</td>\n",
       "      <td>373450</td>\n",
       "      <td>8.0500</td>\n",
       "      <td>NaN</td>\n",
       "      <td>S</td>\n",
       "    </tr>\n",
       "    <tr>\n",
       "      <th>...</th>\n",
       "      <td>...</td>\n",
       "      <td>...</td>\n",
       "      <td>...</td>\n",
       "      <td>...</td>\n",
       "      <td>...</td>\n",
       "      <td>...</td>\n",
       "      <td>...</td>\n",
       "      <td>...</td>\n",
       "      <td>...</td>\n",
       "      <td>...</td>\n",
       "      <td>...</td>\n",
       "      <td>...</td>\n",
       "    </tr>\n",
       "    <tr>\n",
       "      <th>886</th>\n",
       "      <td>887</td>\n",
       "      <td>0</td>\n",
       "      <td>2</td>\n",
       "      <td>Montvila, Rev. Juozas</td>\n",
       "      <td>male</td>\n",
       "      <td>27.0</td>\n",
       "      <td>0</td>\n",
       "      <td>0</td>\n",
       "      <td>211536</td>\n",
       "      <td>13.0000</td>\n",
       "      <td>NaN</td>\n",
       "      <td>S</td>\n",
       "    </tr>\n",
       "    <tr>\n",
       "      <th>887</th>\n",
       "      <td>888</td>\n",
       "      <td>1</td>\n",
       "      <td>1</td>\n",
       "      <td>Graham, Miss. Margaret Edith</td>\n",
       "      <td>female</td>\n",
       "      <td>19.0</td>\n",
       "      <td>0</td>\n",
       "      <td>0</td>\n",
       "      <td>112053</td>\n",
       "      <td>30.0000</td>\n",
       "      <td>B42</td>\n",
       "      <td>S</td>\n",
       "    </tr>\n",
       "    <tr>\n",
       "      <th>888</th>\n",
       "      <td>889</td>\n",
       "      <td>0</td>\n",
       "      <td>3</td>\n",
       "      <td>Johnston, Miss. Catherine Helen \"Carrie\"</td>\n",
       "      <td>female</td>\n",
       "      <td>NaN</td>\n",
       "      <td>1</td>\n",
       "      <td>2</td>\n",
       "      <td>W./C. 6607</td>\n",
       "      <td>23.4500</td>\n",
       "      <td>NaN</td>\n",
       "      <td>S</td>\n",
       "    </tr>\n",
       "    <tr>\n",
       "      <th>889</th>\n",
       "      <td>890</td>\n",
       "      <td>1</td>\n",
       "      <td>1</td>\n",
       "      <td>Behr, Mr. Karl Howell</td>\n",
       "      <td>male</td>\n",
       "      <td>26.0</td>\n",
       "      <td>0</td>\n",
       "      <td>0</td>\n",
       "      <td>111369</td>\n",
       "      <td>30.0000</td>\n",
       "      <td>C148</td>\n",
       "      <td>C</td>\n",
       "    </tr>\n",
       "    <tr>\n",
       "      <th>890</th>\n",
       "      <td>891</td>\n",
       "      <td>0</td>\n",
       "      <td>3</td>\n",
       "      <td>Dooley, Mr. Patrick</td>\n",
       "      <td>male</td>\n",
       "      <td>32.0</td>\n",
       "      <td>0</td>\n",
       "      <td>0</td>\n",
       "      <td>370376</td>\n",
       "      <td>7.7500</td>\n",
       "      <td>NaN</td>\n",
       "      <td>Q</td>\n",
       "    </tr>\n",
       "  </tbody>\n",
       "</table>\n",
       "<p>891 rows × 12 columns</p>\n",
       "</div>"
      ],
      "text/plain": [
       "     PassengerId  Survived  Pclass  \\\n",
       "0              1         0       3   \n",
       "1              2         1       1   \n",
       "2              3         1       3   \n",
       "3              4         1       1   \n",
       "4              5         0       3   \n",
       "..           ...       ...     ...   \n",
       "886          887         0       2   \n",
       "887          888         1       1   \n",
       "888          889         0       3   \n",
       "889          890         1       1   \n",
       "890          891         0       3   \n",
       "\n",
       "                                                  Name     Sex   Age  SibSp  \\\n",
       "0                              Braund, Mr. Owen Harris    male  22.0      1   \n",
       "1    Cumings, Mrs. John Bradley (Florence Briggs Th...  female  38.0      1   \n",
       "2                               Heikkinen, Miss. Laina  female  26.0      0   \n",
       "3         Futrelle, Mrs. Jacques Heath (Lily May Peel)  female  35.0      1   \n",
       "4                             Allen, Mr. William Henry    male  35.0      0   \n",
       "..                                                 ...     ...   ...    ...   \n",
       "886                              Montvila, Rev. Juozas    male  27.0      0   \n",
       "887                       Graham, Miss. Margaret Edith  female  19.0      0   \n",
       "888           Johnston, Miss. Catherine Helen \"Carrie\"  female   NaN      1   \n",
       "889                              Behr, Mr. Karl Howell    male  26.0      0   \n",
       "890                                Dooley, Mr. Patrick    male  32.0      0   \n",
       "\n",
       "     Parch            Ticket     Fare Cabin Embarked  \n",
       "0        0         A/5 21171   7.2500   NaN        S  \n",
       "1        0          PC 17599  71.2833   C85        C  \n",
       "2        0  STON/O2. 3101282   7.9250   NaN        S  \n",
       "3        0            113803  53.1000  C123        S  \n",
       "4        0            373450   8.0500   NaN        S  \n",
       "..     ...               ...      ...   ...      ...  \n",
       "886      0            211536  13.0000   NaN        S  \n",
       "887      0            112053  30.0000   B42        S  \n",
       "888      2        W./C. 6607  23.4500   NaN        S  \n",
       "889      0            111369  30.0000  C148        C  \n",
       "890      0            370376   7.7500   NaN        Q  \n",
       "\n",
       "[891 rows x 12 columns]"
      ]
     },
     "execution_count": 338,
     "metadata": {},
     "output_type": "execute_result"
    }
   ],
   "source": [
    "df = pd.read_csv(\"Titanic_Survival_train.csv\")\n",
    "df"
   ]
  },
  {
   "cell_type": "code",
   "execution_count": 257,
   "id": "6533914b",
   "metadata": {},
   "outputs": [
    {
     "data": {
      "text/html": [
       "<div>\n",
       "<style scoped>\n",
       "    .dataframe tbody tr th:only-of-type {\n",
       "        vertical-align: middle;\n",
       "    }\n",
       "\n",
       "    .dataframe tbody tr th {\n",
       "        vertical-align: top;\n",
       "    }\n",
       "\n",
       "    .dataframe thead th {\n",
       "        text-align: right;\n",
       "    }\n",
       "</style>\n",
       "<table border=\"1\" class=\"dataframe\">\n",
       "  <thead>\n",
       "    <tr style=\"text-align: right;\">\n",
       "      <th></th>\n",
       "      <th>PassengerId</th>\n",
       "      <th>Survived</th>\n",
       "      <th>Pclass</th>\n",
       "      <th>Age</th>\n",
       "      <th>SibSp</th>\n",
       "      <th>Parch</th>\n",
       "      <th>Fare</th>\n",
       "    </tr>\n",
       "  </thead>\n",
       "  <tbody>\n",
       "    <tr>\n",
       "      <th>count</th>\n",
       "      <td>891.000000</td>\n",
       "      <td>891.000000</td>\n",
       "      <td>891.000000</td>\n",
       "      <td>714.000000</td>\n",
       "      <td>891.000000</td>\n",
       "      <td>891.000000</td>\n",
       "      <td>891.000000</td>\n",
       "    </tr>\n",
       "    <tr>\n",
       "      <th>mean</th>\n",
       "      <td>446.000000</td>\n",
       "      <td>0.383838</td>\n",
       "      <td>2.308642</td>\n",
       "      <td>29.699118</td>\n",
       "      <td>0.523008</td>\n",
       "      <td>0.381594</td>\n",
       "      <td>32.204208</td>\n",
       "    </tr>\n",
       "    <tr>\n",
       "      <th>std</th>\n",
       "      <td>257.353842</td>\n",
       "      <td>0.486592</td>\n",
       "      <td>0.836071</td>\n",
       "      <td>14.526497</td>\n",
       "      <td>1.102743</td>\n",
       "      <td>0.806057</td>\n",
       "      <td>49.693429</td>\n",
       "    </tr>\n",
       "    <tr>\n",
       "      <th>min</th>\n",
       "      <td>1.000000</td>\n",
       "      <td>0.000000</td>\n",
       "      <td>1.000000</td>\n",
       "      <td>0.420000</td>\n",
       "      <td>0.000000</td>\n",
       "      <td>0.000000</td>\n",
       "      <td>0.000000</td>\n",
       "    </tr>\n",
       "    <tr>\n",
       "      <th>25%</th>\n",
       "      <td>223.500000</td>\n",
       "      <td>0.000000</td>\n",
       "      <td>2.000000</td>\n",
       "      <td>20.125000</td>\n",
       "      <td>0.000000</td>\n",
       "      <td>0.000000</td>\n",
       "      <td>7.910400</td>\n",
       "    </tr>\n",
       "    <tr>\n",
       "      <th>50%</th>\n",
       "      <td>446.000000</td>\n",
       "      <td>0.000000</td>\n",
       "      <td>3.000000</td>\n",
       "      <td>28.000000</td>\n",
       "      <td>0.000000</td>\n",
       "      <td>0.000000</td>\n",
       "      <td>14.454200</td>\n",
       "    </tr>\n",
       "    <tr>\n",
       "      <th>75%</th>\n",
       "      <td>668.500000</td>\n",
       "      <td>1.000000</td>\n",
       "      <td>3.000000</td>\n",
       "      <td>38.000000</td>\n",
       "      <td>1.000000</td>\n",
       "      <td>0.000000</td>\n",
       "      <td>31.000000</td>\n",
       "    </tr>\n",
       "    <tr>\n",
       "      <th>max</th>\n",
       "      <td>891.000000</td>\n",
       "      <td>1.000000</td>\n",
       "      <td>3.000000</td>\n",
       "      <td>80.000000</td>\n",
       "      <td>8.000000</td>\n",
       "      <td>6.000000</td>\n",
       "      <td>512.329200</td>\n",
       "    </tr>\n",
       "  </tbody>\n",
       "</table>\n",
       "</div>"
      ],
      "text/plain": [
       "       PassengerId    Survived      Pclass         Age       SibSp  \\\n",
       "count   891.000000  891.000000  891.000000  714.000000  891.000000   \n",
       "mean    446.000000    0.383838    2.308642   29.699118    0.523008   \n",
       "std     257.353842    0.486592    0.836071   14.526497    1.102743   \n",
       "min       1.000000    0.000000    1.000000    0.420000    0.000000   \n",
       "25%     223.500000    0.000000    2.000000   20.125000    0.000000   \n",
       "50%     446.000000    0.000000    3.000000   28.000000    0.000000   \n",
       "75%     668.500000    1.000000    3.000000   38.000000    1.000000   \n",
       "max     891.000000    1.000000    3.000000   80.000000    8.000000   \n",
       "\n",
       "            Parch        Fare  \n",
       "count  891.000000  891.000000  \n",
       "mean     0.381594   32.204208  \n",
       "std      0.806057   49.693429  \n",
       "min      0.000000    0.000000  \n",
       "25%      0.000000    7.910400  \n",
       "50%      0.000000   14.454200  \n",
       "75%      0.000000   31.000000  \n",
       "max      6.000000  512.329200  "
      ]
     },
     "execution_count": 257,
     "metadata": {},
     "output_type": "execute_result"
    }
   ],
   "source": [
    "df.describe()"
   ]
  },
  {
   "cell_type": "code",
   "execution_count": 258,
   "id": "8220f439",
   "metadata": {},
   "outputs": [
    {
     "name": "stdout",
     "output_type": "stream",
     "text": [
      "<class 'pandas.core.frame.DataFrame'>\n",
      "RangeIndex: 891 entries, 0 to 890\n",
      "Data columns (total 12 columns):\n",
      " #   Column       Non-Null Count  Dtype  \n",
      "---  ------       --------------  -----  \n",
      " 0   PassengerId  891 non-null    int64  \n",
      " 1   Survived     891 non-null    int64  \n",
      " 2   Pclass       891 non-null    int64  \n",
      " 3   Name         891 non-null    object \n",
      " 4   Sex          891 non-null    object \n",
      " 5   Age          714 non-null    float64\n",
      " 6   SibSp        891 non-null    int64  \n",
      " 7   Parch        891 non-null    int64  \n",
      " 8   Ticket       891 non-null    object \n",
      " 9   Fare         891 non-null    float64\n",
      " 10  Cabin        204 non-null    object \n",
      " 11  Embarked     889 non-null    object \n",
      "dtypes: float64(2), int64(5), object(5)\n",
      "memory usage: 83.7+ KB\n"
     ]
    }
   ],
   "source": [
    "df.info()"
   ]
  },
  {
   "cell_type": "markdown",
   "id": "30fb9b3c",
   "metadata": {},
   "source": [
    "# Matplotlib & Seaborn"
   ]
  },
  {
   "cell_type": "code",
   "execution_count": 315,
   "id": "160901bf",
   "metadata": {},
   "outputs": [],
   "source": [
    "import matplotlib.pyplot as plt\n",
    "import seaborn as sns"
   ]
  },
  {
   "cell_type": "code",
   "execution_count": null,
   "id": "3a790a6e",
   "metadata": {},
   "outputs": [],
   "source": [
    "df['Age height']"
   ]
  },
  {
   "cell_type": "code",
   "execution_count": 345,
   "id": "9cda3138",
   "metadata": {},
   "outputs": [
    {
     "data": {
      "image/png": "[encoded data removed]",
      "text/plain": [
       "<Figure size 640x480 with 1 Axes>"
      ]
     },
     "metadata": {},
     "output_type": "display_data"
    }
   ],
   "source": [
    "# Histogram\n",
    "\n",
    "plt.hist(df.Age, density = True)\n",
    "plt.show()"
   ]
  },
  {
   "cell_type": "code",
   "execution_count": 342,
   "id": "83109a35",
   "metadata": {},
   "outputs": [
    {
     "data": {
      "image/png": "[encoded data removed]",
      "text/plain": [
       "<Figure size 640x480 with 1 Axes>"
      ]
     },
     "metadata": {},
     "output_type": "display_data"
    }
   ],
   "source": [
    "plt.hist(df['Age'], bins = 8, density = False)\n",
    "plt.ylim(0,300)\n",
    "plt.xlabel('Age')\n",
    "plt.ylabel('Frequency of people')\n",
    "plt.title('Age Distribution')\n",
    "plt.text(40, 200, 'Young people were more in number')\n",
    "plt.grid(True)\n",
    "plt.show()"
   ]
  },
  {
   "cell_type": "code",
   "execution_count": 298,
   "id": "a4e71eca",
   "metadata": {},
   "outputs": [
    {
     "data": {
      "image/png": "[encoded data removed]",
      "text/plain": [
       "<Figure size 640x480 with 1 Axes>"
      ]
     },
     "metadata": {},
     "output_type": "display_data"
    }
   ],
   "source": [
    "# Line plot\n",
    "\n",
    "plt.plot(df.Age, label = 'Age')\n",
    "plt.plot(df.Age[:24], label = 'Subset of Age')\n",
    "plt.plot(np.sort(df.Age), label = 'Sorted Age')\n",
    "plt.legend()\n",
    "plt.show()"
   ]
  },
  {
   "cell_type": "code",
   "execution_count": 266,
   "id": "24bc5d8d",
   "metadata": {},
   "outputs": [
    {
     "data": {
      "text/plain": [
       "array([3, 1, 2])"
      ]
     },
     "execution_count": 266,
     "metadata": {},
     "output_type": "execute_result"
    }
   ],
   "source": [
    "df.Pclass.unique()"
   ]
  },
  {
   "cell_type": "code",
   "execution_count": 301,
   "id": "eb8fca12",
   "metadata": {},
   "outputs": [],
   "source": [
    "# Add custom 'decorations' for your plot in matplotlib"
   ]
  },
  {
   "cell_type": "code",
   "execution_count": 268,
   "id": "5f8aee85",
   "metadata": {},
   "outputs": [
    {
     "data": {
      "image/png": "[encoded data removed]",
      "text/plain": [
       "<Figure size 640x480 with 1 Axes>"
      ]
     },
     "metadata": {},
     "output_type": "display_data"
    }
   ],
   "source": [
    "plt.bar(df.Pclass, df.index)\n",
    "plt.show()"
   ]
  },
  {
   "cell_type": "code",
   "execution_count": 300,
   "id": "56c33594",
   "metadata": {},
   "outputs": [
    {
     "data": {
      "image/png": "[encoded data removed]",
      "text/plain": [
       "<Figure size 640x480 with 1 Axes>"
      ]
     },
     "metadata": {},
     "output_type": "display_data"
    }
   ],
   "source": [
    "plt.scatter(df.Age, np.log(df.Age))\n",
    "plt.show()"
   ]
  },
  {
   "cell_type": "code",
   "execution_count": 310,
   "id": "44898ffb",
   "metadata": {
    "scrolled": false
   },
   "outputs": [
    {
     "data": {
      "image/png": "[encoded data removed]",
      "text/plain": [
       "<Figure size 640x480 with 2 Axes>"
      ]
     },
     "metadata": {},
     "output_type": "display_data"
    }
   ],
   "source": [
    "fig = plt.figure()\n",
    "ax1 = fig.add_axes([0.1, 0.5, 0.8, 0.4],\n",
    "                   xticklabels=[], ylim=(-1.2, 1.2))\n",
    "ax2 = fig.add_axes([0.1, 0.1, 0.8, 0.4],\n",
    "                   ylim=(-1.2, 1.2))\n",
    "\n",
    "x = np.linspace(0, 10)\n",
    "ax1.plot(np.sin(x))\n",
    "ax2.plot(np.cos(x))\n",
    "plt.show()"
   ]
  },
  {
   "cell_type": "code",
   "execution_count": 324,
   "id": "c9a6b789",
   "metadata": {},
   "outputs": [
    {
     "data": {
      "text/plain": [
       "<AxesSubplot: xlabel='Age', ylabel='Density'>"
      ]
     },
     "execution_count": 324,
     "metadata": {},
     "output_type": "execute_result"
    },
    {
     "data": {
      "image/png": "[encoded data removed]",
      "text/plain": [
       "<Figure size 640x480 with 1 Axes>"
      ]
     },
     "metadata": {},
     "output_type": "display_data"
    }
   ],
   "source": [
    "sns.kdeplot(data = df, x = 'Age')"
   ]
  },
  {
   "cell_type": "code",
   "execution_count": 325,
   "id": "dd7afd2a",
   "metadata": {},
   "outputs": [],
   "source": [
    "# Number of choices to plot are enormous\n",
    "# Use <package>.Tab to see the available list of functions & <package>.<function>? to see documentation"
   ]
  },
  {
   "cell_type": "code",
   "execution_count": null,
   "id": "87183a54",
   "metadata": {},
   "outputs": [],
   "source": []
  }
 ],
 "metadata": {
  "kernelspec": {
   "display_name": "Python 3 (ipykernel)",
   "language": "python",
   "name": "python3"
  },
  "language_info": {
   "codemirror_mode": {
    "name": "ipython",
    "version": 3
   },
   "file_extension": ".py",
   "mimetype": "text/x-python",
   "name": "python",
   "nbconvert_exporter": "python",
   "pygments_lexer": "ipython3",
   "version": "3.11.0"
  }
 },
 "nbformat": 4,
 "nbformat_minor": 5
}
