{
 "cells": [
  {
   "cell_type": "markdown",
   "id": "8d8d064a",
   "metadata": {},
   "source": [
    "# Python Beginner Tools"
   ]
  },
  {
   "cell_type": "code",
   "execution_count": 1,
   "id": "977cb9bb",
   "metadata": {},
   "outputs": [
    {
     "name": "stdout",
     "output_type": "stream",
     "text": [
      "Hello World!\n"
     ]
    },
    {
     "data": {
      "text/plain": [
       "'Hello World!'"
      ]
     },
     "execution_count": 1,
     "metadata": {},
     "output_type": "execute_result"
    }
   ],
   "source": [
    "print(\"Hello World!\")\n",
    "\n",
    "\"Hello World!\""
   ]
  },
  {
   "cell_type": "markdown",
   "id": "5a33f4d6",
   "metadata": {},
   "source": [
    "Indentation example"
   ]
  },
  {
   "cell_type": "code",
   "execution_count": 2,
   "id": "a73d054f",
   "metadata": {},
   "outputs": [
    {
     "name": "stdout",
     "output_type": "stream",
     "text": [
      "True\n"
     ]
    }
   ],
   "source": [
    "if 1>0:\n",
    "    print(True)"
   ]
  },
  {
   "cell_type": "code",
   "execution_count": 4,
   "id": "de0e9be9",
   "metadata": {},
   "outputs": [
    {
     "name": "stdout",
     "output_type": "stream",
     "text": [
      "True\n"
     ]
    }
   ],
   "source": [
    "if 1>0:\n",
    "    print(True)"
   ]
  },
  {
   "cell_type": "code",
   "execution_count": 148,
   "id": "92455255",
   "metadata": {},
   "outputs": [
    {
     "name": "stdout",
     "output_type": "stream",
     "text": [
      "False\n"
     ]
    }
   ],
   "source": [
    "# are extra indentations allowed?\n",
    "# try it out\n",
    "if 1<0:\n",
    "    print(True)\n",
    "else:\n",
    "    print(False)"
   ]
  },
  {
   "cell_type": "markdown",
   "id": "8db6b15a",
   "metadata": {},
   "source": [
    "Comments"
   ]
  },
  {
   "cell_type": "code",
   "execution_count": 9,
   "id": "b7dd7ab0",
   "metadata": {},
   "outputs": [
    {
     "name": "stdout",
     "output_type": "stream",
     "text": [
      "24\n",
      "7\n",
      "*****\n"
     ]
    }
   ],
   "source": [
    "# Notice above\n",
    "\n",
    "print(24) # Printing total hours in a day\n",
    "\n",
    "# these are called\n",
    "# multiline comments\n",
    "a = 2+5\n",
    "print(a)\n",
    "\n",
    "\"\"\" \n",
    "This is also an example of a multiline comment.\n",
    "This is usually used when you have a description or a large comment to provide.\n",
    "\"\"\"\n",
    "print('*' * 5)"
   ]
  },
  {
   "cell_type": "markdown",
   "id": "0dffc275",
   "metadata": {},
   "source": [
    "Variables"
   ]
  },
  {
   "cell_type": "code",
   "execution_count": 10,
   "id": "9b4ff459",
   "metadata": {},
   "outputs": [
    {
     "name": "stdout",
     "output_type": "stream",
     "text": [
      "24\n",
      "[1, 2, 3]\n",
      "Sunshine\n",
      "0\n"
     ]
    }
   ],
   "source": [
    "a = 24\n",
    "b = [1, 2, 3]\n",
    "\n",
    "print(a)\n",
    "print(b)\n",
    "\n",
    "a = \"Sunshine\"\n",
    "print(a)\n",
    "\n",
    "a, b, c = 0, 0, 0\n",
    "print(a)"
   ]
  },
  {
   "cell_type": "code",
   "execution_count": 11,
   "id": "99fabeb7",
   "metadata": {},
   "outputs": [
    {
     "name": "stdout",
     "output_type": "stream",
     "text": [
      "<class 'int'>\n",
      "<class 'str'>\n",
      "<class 'float'>\n",
      "<class 'list'>\n"
     ]
    }
   ],
   "source": [
    "a = 24\n",
    "print(type(a))\n",
    "\n",
    "a = \"Sunshine\"\n",
    "print(type(a))\n",
    "\n",
    "a, b, c = 0.0, 0.0, 0.0\n",
    "print(type(a))\n",
    "\n",
    "a = [1,2,3]\n",
    "print(type(a))"
   ]
  },
  {
   "cell_type": "code",
   "execution_count": 12,
   "id": "e3a7d214",
   "metadata": {},
   "outputs": [
    {
     "name": "stdout",
     "output_type": "stream",
     "text": [
      "<class 'str'>\n",
      "<class 'str'>\n"
     ]
    }
   ],
   "source": [
    "a = 'Sunshine'\n",
    "print(type(a))\n",
    "\n",
    "a = \"Sunshine\"\n",
    "print(type(a))"
   ]
  },
  {
   "cell_type": "code",
   "execution_count": 14,
   "id": "fe3dac76",
   "metadata": {},
   "outputs": [],
   "source": [
    "a = b = c = 0"
   ]
  },
  {
   "cell_type": "code",
   "execution_count": 15,
   "id": "90f6e148",
   "metadata": {},
   "outputs": [
    {
     "data": {
      "text/plain": [
       "0"
      ]
     },
     "execution_count": 15,
     "metadata": {},
     "output_type": "execute_result"
    }
   ],
   "source": [
    "a"
   ]
  },
  {
   "cell_type": "code",
   "execution_count": 16,
   "id": "8e2a2cd7",
   "metadata": {},
   "outputs": [
    {
     "name": "stdout",
     "output_type": "stream",
     "text": [
      "1 2 3\n"
     ]
    }
   ],
   "source": [
    "vals = [1,2,3]\n",
    "a, b, c = vals\n",
    "print(a,b,c)"
   ]
  },
  {
   "cell_type": "code",
   "execution_count": 17,
   "id": "a307baa6",
   "metadata": {},
   "outputs": [
    {
     "name": "stdout",
     "output_type": "stream",
     "text": [
      "5\n",
      "5\n"
     ]
    }
   ],
   "source": [
    "a = b = c = d = 5\n",
    "print(d)\n",
    "print(b)"
   ]
  },
  {
   "cell_type": "markdown",
   "id": "79b056d7",
   "metadata": {},
   "source": [
    "### General Naming Rules\n",
    "<ol>A variable name must start with a letter or the underscore character</ol>\n",
    "<ol>A variable name cannot start with a number</ol>\n",
    "<ol>A variable name can only contain alpha-numeric characters and underscores (A-z, 0-9, and _ )</ol>\n",
    "<ol>Variable names are case-sensitive (age, Age and AGE are three different variables)</ol>"
   ]
  },
  {
   "cell_type": "markdown",
   "id": "242e0ab2",
   "metadata": {},
   "source": [
    "### Printing in Python"
   ]
  },
  {
   "cell_type": "code",
   "execution_count": 18,
   "id": "a5a23f5e",
   "metadata": {},
   "outputs": [
    {
     "name": "stdout",
     "output_type": "stream",
     "text": [
      "5 5 5\n"
     ]
    }
   ],
   "source": [
    "print(a, b, c)"
   ]
  },
  {
   "cell_type": "code",
   "execution_count": 19,
   "id": "76b15055",
   "metadata": {},
   "outputs": [
    {
     "name": "stdout",
     "output_type": "stream",
     "text": [
      "25\n",
      "10\n",
      "3125\n"
     ]
    }
   ],
   "source": [
    "print(a * 5)\n",
    "print(a + 5)\n",
    "print(a ** 5)"
   ]
  },
  {
   "cell_type": "code",
   "execution_count": 22,
   "id": "c33ef3e9",
   "metadata": {},
   "outputs": [
    {
     "name": "stdout",
     "output_type": "stream",
     "text": [
      "SunshineSunshineSunshineSunshineSunshine\n"
     ]
    },
    {
     "ename": "TypeError",
     "evalue": "unsupported operand type(s) for ** or pow(): 'str' and 'int'",
     "output_type": "error",
     "traceback": [
      "\u001b[0;31m---------------------------------------------------------------------------\u001b[0m",
      "\u001b[0;31mTypeError\u001b[0m                                 Traceback (most recent call last)",
      "Cell \u001b[0;32mIn [22], line 7\u001b[0m\n\u001b[1;32m      5\u001b[0m \u001b[38;5;28mprint\u001b[39m(a \u001b[38;5;241m*\u001b[39m \u001b[38;5;241m5\u001b[39m)\n\u001b[1;32m      6\u001b[0m \u001b[38;5;66;03m#print(a + 5)\u001b[39;00m\n\u001b[0;32m----> 7\u001b[0m \u001b[38;5;28mprint\u001b[39m(\u001b[43ma\u001b[49m\u001b[43m \u001b[49m\u001b[38;5;241;43m*\u001b[39;49m\u001b[38;5;241;43m*\u001b[39;49m\u001b[43m \u001b[49m\u001b[38;5;241;43m5\u001b[39;49m)\n",
      "\u001b[0;31mTypeError\u001b[0m: unsupported operand type(s) for ** or pow(): 'str' and 'int'"
     ]
    }
   ],
   "source": [
    "# what if a = \"Sunshine\"?\n",
    "# try it\n",
    "\n",
    "a = \"Sunshine\"\n",
    "print(a * 5)\n",
    "#print(a + 5)\n",
    "#print(a ** 5)"
   ]
  },
  {
   "cell_type": "code",
   "execution_count": 24,
   "id": "050e1e47",
   "metadata": {},
   "outputs": [
    {
     "name": "stdout",
     "output_type": "stream",
     "text": [
      "5\n",
      "0\n"
     ]
    }
   ],
   "source": [
    "# what if you are using a mathematical operation with two different kinds of data types?\n",
    "# try it\n",
    "\n",
    "\n",
    "# Boolean?\n",
    "print(5 + False)\n",
    "print(5 * False)"
   ]
  },
  {
   "cell_type": "code",
   "execution_count": 26,
   "id": "29060758",
   "metadata": {},
   "outputs": [
    {
     "name": "stdout",
     "output_type": "stream",
     "text": [
      "aaaaa\n",
      "bbbbb\n",
      "bbbbb\n",
      "bbbbb\n",
      "bbbbb\n",
      "bbbbb\n",
      "bbbbb\n",
      "bbbbb\n",
      "bbbbb\n",
      "bbbbb\n",
      "bbbbb\n"
     ]
    }
   ],
   "source": [
    "print(\"a\" * 5, sep = \"\\n\")\n",
    "\n",
    "for i in range(10):\n",
    "    print(\"b\" * 5, sep = \"\\t\")"
   ]
  },
  {
   "cell_type": "markdown",
   "id": "fa6fc5cc",
   "metadata": {},
   "source": [
    "### Data Types"
   ]
  },
  {
   "cell_type": "code",
   "execution_count": 27,
   "id": "4d2c94aa",
   "metadata": {},
   "outputs": [
    {
     "name": "stdout",
     "output_type": "stream",
     "text": [
      "76000.0\n",
      "23000000000.0\n",
      "-900.0\n",
      "0.09\n"
     ]
    }
   ],
   "source": [
    "# str\n",
    "a = \"sun is shining\"\n",
    "a = 'sun'\n",
    "\n",
    "# int\n",
    "b = 24\n",
    "b = -8756\n",
    "\n",
    "# float\n",
    "c = 0.1\n",
    "c = -0.01\n",
    "c = 76e3\n",
    "print(c)\n",
    "c = 23E9\n",
    "print(c)\n",
    "c = -9e2\n",
    "print(c)\n",
    "c = 9e-2\n",
    "print(c)\n",
    "\n",
    "# Sequences\n",
    "d = [1, 2, 3] # list\n",
    "e = (1, 2, 3) # tuple\n",
    "\n",
    "# what is the difference between d & e?\n",
    "# try it"
   ]
  },
  {
   "cell_type": "code",
   "execution_count": 29,
   "id": "b211f658",
   "metadata": {},
   "outputs": [
    {
     "data": {
      "text/plain": [
       "[20, 2, 3]"
      ]
     },
     "execution_count": 29,
     "metadata": {},
     "output_type": "execute_result"
    }
   ],
   "source": [
    "d[0] = 20\n",
    "d"
   ]
  },
  {
   "cell_type": "code",
   "execution_count": 30,
   "id": "f247fa2e",
   "metadata": {},
   "outputs": [
    {
     "ename": "TypeError",
     "evalue": "'tuple' object does not support item assignment",
     "output_type": "error",
     "traceback": [
      "\u001b[0;31m---------------------------------------------------------------------------\u001b[0m",
      "\u001b[0;31mTypeError\u001b[0m                                 Traceback (most recent call last)",
      "Cell \u001b[0;32mIn [30], line 1\u001b[0m\n\u001b[0;32m----> 1\u001b[0m \u001b[43me\u001b[49m\u001b[43m[\u001b[49m\u001b[38;5;241;43m0\u001b[39;49m\u001b[43m]\u001b[49m \u001b[38;5;241m=\u001b[39m \u001b[38;5;241m20\u001b[39m\n\u001b[1;32m      2\u001b[0m e\n",
      "\u001b[0;31mTypeError\u001b[0m: 'tuple' object does not support item assignment"
     ]
    }
   ],
   "source": [
    "e[0] = 20\n",
    "e"
   ]
  },
  {
   "cell_type": "code",
   "execution_count": 32,
   "id": "c922e8a6",
   "metadata": {},
   "outputs": [
    {
     "name": "stdout",
     "output_type": "stream",
     "text": [
      "10\n",
      "12\n",
      "14\n",
      "16\n",
      "18\n",
      "20\n"
     ]
    }
   ],
   "source": [
    "f = range(10,21,2) # range(start, end-1, step)\n",
    "\n",
    "for i in f:\n",
    "    print(i)"
   ]
  },
  {
   "cell_type": "code",
   "execution_count": 33,
   "id": "48179bba",
   "metadata": {},
   "outputs": [
    {
     "data": {
      "text/plain": [
       "'USA'"
      ]
     },
     "execution_count": 33,
     "metadata": {},
     "output_type": "execute_result"
    }
   ],
   "source": [
    "# Mapping\n",
    "d = {'Harish': 'India', 'Tom': 'USA', 'Welma': 'Australia'}\n",
    "\n",
    "# how do you access this data?\n",
    "# try it\n",
    "d['Tom']"
   ]
  },
  {
   "cell_type": "code",
   "execution_count": 34,
   "id": "1156f5ec",
   "metadata": {},
   "outputs": [
    {
     "name": "stdout",
     "output_type": "stream",
     "text": [
      "True\n",
      "False\n",
      "True\n",
      "True\n"
     ]
    }
   ],
   "source": [
    "a = bool(-1)\n",
    "print(a)\n",
    "\n",
    "a = bool(0)\n",
    "print(a)\n",
    "\n",
    "a = bool(5)\n",
    "print(a)\n",
    "\n",
    "a = True\n",
    "print(a)"
   ]
  },
  {
   "cell_type": "code",
   "execution_count": 35,
   "id": "2257d67a",
   "metadata": {},
   "outputs": [
    {
     "name": "stdout",
     "output_type": "stream",
     "text": [
      "<class 'NoneType'>\n"
     ]
    }
   ],
   "source": [
    "a = None\n",
    "print(type(a))"
   ]
  },
  {
   "cell_type": "code",
   "execution_count": 39,
   "id": "3c9585dd",
   "metadata": {},
   "outputs": [
    {
     "name": "stdout",
     "output_type": "stream",
     "text": [
      "3.0\n",
      "2.3\n",
      "4\n"
     ]
    }
   ],
   "source": [
    "# type conversion\n",
    "# try it\n",
    "\n",
    "a = \"sun\"\n",
    "\n",
    "b = \"2.3\"\n",
    "\n",
    "# conversion promotion\n",
    "print(2.0 + 1)\n",
    "\n",
    "print(float(b))\n",
    "# conversion demotion\n",
    "print(round(3.8))"
   ]
  },
  {
   "cell_type": "markdown",
   "id": "c5ff4653",
   "metadata": {},
   "source": [
    "### for loops"
   ]
  },
  {
   "cell_type": "code",
   "execution_count": 40,
   "id": "69946696",
   "metadata": {},
   "outputs": [
    {
     "name": "stdout",
     "output_type": "stream",
     "text": [
      "0\n",
      "1\n",
      "2\n",
      "3\n",
      "4\n",
      "0\n",
      "1\n",
      "2\n",
      "3\n"
     ]
    }
   ],
   "source": [
    "for i in range(5):\n",
    "    print(i)\n",
    "\n",
    "for prats in range(4):\n",
    "    print(prats)"
   ]
  },
  {
   "cell_type": "code",
   "execution_count": 41,
   "id": "8dfd01dc",
   "metadata": {},
   "outputs": [
    {
     "name": "stdout",
     "output_type": "stream",
     "text": [
      "0\n",
      "1\n",
      "2\n",
      "3\n",
      "4\n",
      "5\n",
      "6\n",
      "7\n",
      "8\n"
     ]
    },
    {
     "data": {
      "text/plain": [
       "'\\n- i will take values from a to b-1\\n- If you don’t specify a, python will assume a to be 0\\n- If you don’t specify c, python will assume c to be 1\\n'"
      ]
     },
     "execution_count": 41,
     "metadata": {},
     "output_type": "execute_result"
    }
   ],
   "source": [
    "a, b, c = 0, 9, 1\n",
    "\n",
    "for i in range(a,b,c):\n",
    "    print(i)\n",
    "\n",
    "\"\"\"\n",
    "- i will take values from a to b-1\n",
    "- If you don’t specify a, python will assume a to be 0\n",
    "- If you don’t specify c, python will assume c to be 1\n",
    "\"\"\"\n"
   ]
  },
  {
   "cell_type": "code",
   "execution_count": 45,
   "id": "31ae06c6",
   "metadata": {},
   "outputs": [
    {
     "name": "stdout",
     "output_type": "stream",
     "text": [
      "0\n",
      "0\n",
      "0\n",
      "1\n",
      "0\n",
      "2\n"
     ]
    }
   ],
   "source": [
    "# reverse loop?\n",
    "# for i in range(10, -1, -1):\n",
    "#     print(i)\n",
    "\n",
    "# nested for loop?\n",
    "# try it\n",
    "for i in range(3):\n",
    "    for j in range(2):\n",
    "        print(i*j)"
   ]
  },
  {
   "cell_type": "markdown",
   "id": "77b6db34",
   "metadata": {},
   "source": [
    "### If-else"
   ]
  },
  {
   "cell_type": "code",
   "execution_count": 47,
   "id": "20d24aac",
   "metadata": {},
   "outputs": [],
   "source": [
    "if \"moon\" < \"a\":\n",
    "    print(\"the moon is bright\")"
   ]
  },
  {
   "cell_type": "code",
   "execution_count": 48,
   "id": "d2be4d91",
   "metadata": {},
   "outputs": [
    {
     "name": "stdout",
     "output_type": "stream",
     "text": [
      "Reality\n"
     ]
    }
   ],
   "source": [
    "if 10>100:\n",
    "    print(\"Miracle!\")\n",
    "else:\n",
    "    print(\"Reality\")"
   ]
  },
  {
   "cell_type": "code",
   "execution_count": 49,
   "id": "816590a5",
   "metadata": {},
   "outputs": [
    {
     "name": "stdout",
     "output_type": "stream",
     "text": [
      "Slightly High\n"
     ]
    }
   ],
   "source": [
    "systolic = 130\n",
    "\n",
    "if systolic <= 120:\n",
    "    print(\"Normal\")\n",
    "elif systolic < 140:\n",
    "    print('Slightly High')\n",
    "else:\n",
    "    print('High')"
   ]
  },
  {
   "cell_type": "markdown",
   "id": "486b81a5",
   "metadata": {},
   "source": [
    "### Conditional Operators\n",
    "<ol>== : Equal to</ol>\n",
    "<ol>< : Less than</ol>\n",
    "<ol>> : Greater than</ol>\n",
    "<ol><= : Less than Equal to</ol>\n",
    "<ol>>= : Greater than Equal to</ol>\n",
    "<ol>!= : Not Equal to</ol>"
   ]
  },
  {
   "cell_type": "markdown",
   "id": "b7e86c60",
   "metadata": {},
   "source": [
    "### Additional Operators\n",
    "\n",
    "<ol>and : both conditions or statements must be true</ol>\n",
    "<ol>or : either condition could be true</ol>"
   ]
  },
  {
   "cell_type": "code",
   "execution_count": 51,
   "id": "39f61981",
   "metadata": {},
   "outputs": [],
   "source": [
    "a = 80\n",
    "\n",
    "if a>50 and a<70:\n",
    "    print('Yes')"
   ]
  },
  {
   "cell_type": "code",
   "execution_count": 52,
   "id": "6a4fbc1f",
   "metadata": {},
   "outputs": [
    {
     "name": "stdout",
     "output_type": "stream",
     "text": [
      "Yes\n"
     ]
    }
   ],
   "source": [
    "if a>50 or a<70:\n",
    "    print('Yes')"
   ]
  },
  {
   "cell_type": "code",
   "execution_count": 54,
   "id": "4b887ee5",
   "metadata": {},
   "outputs": [],
   "source": [
    "# if 14 and 14:\n",
    "    # what is the output here?\n",
    "\n",
    "if 14 and 0:\n",
    "    print('Yes')"
   ]
  },
  {
   "cell_type": "code",
   "execution_count": 55,
   "id": "f7b386b3",
   "metadata": {},
   "outputs": [
    {
     "name": "stdout",
     "output_type": "stream",
     "text": [
      "TRUE\n",
      "True\n"
     ]
    }
   ],
   "source": [
    "# if vs elif\n",
    "\n",
    "if 10<100:\n",
    "    print('TRUE')\n",
    "if 10<20:\n",
    "    print(True)"
   ]
  },
  {
   "cell_type": "markdown",
   "id": "c8d69179",
   "metadata": {},
   "source": [
    "### Strings"
   ]
  },
  {
   "cell_type": "code",
   "execution_count": 56,
   "id": "c8c079f0",
   "metadata": {},
   "outputs": [
    {
     "name": "stdout",
     "output_type": "stream",
     "text": [
      "\n"
     ]
    }
   ],
   "source": [
    "a = ''\n",
    "print(a)"
   ]
  },
  {
   "cell_type": "code",
   "execution_count": 57,
   "id": "8d71748f",
   "metadata": {},
   "outputs": [
    {
     "data": {
      "text/plain": [
       "'hello there'"
      ]
     },
     "execution_count": 57,
     "metadata": {},
     "output_type": "execute_result"
    }
   ],
   "source": [
    "a = \"hello there\"\n",
    "a"
   ]
  },
  {
   "cell_type": "code",
   "execution_count": 58,
   "id": "2e0a57a8",
   "metadata": {},
   "outputs": [
    {
     "data": {
      "text/plain": [
       "'hello\\nthere'"
      ]
     },
     "execution_count": 58,
     "metadata": {},
     "output_type": "execute_result"
    }
   ],
   "source": [
    "a = \"\"\"hello\n",
    "there\"\"\"\n",
    "a"
   ]
  },
  {
   "cell_type": "code",
   "execution_count": 65,
   "id": "5a20fb48",
   "metadata": {},
   "outputs": [
    {
     "data": {
      "text/plain": [
       "'ereht\\nolleh'"
      ]
     },
     "execution_count": 65,
     "metadata": {},
     "output_type": "execute_result"
    }
   ],
   "source": [
    "# indexing a string\n",
    "\n",
    "a[0]\n",
    "# str[start:end+1:step]\n",
    "#a[:5]\n",
    "#a[2:7]\n",
    "#a[::2]\n",
    "a[::-1]"
   ]
  },
  {
   "cell_type": "code",
   "execution_count": 61,
   "id": "27e7e3d0",
   "metadata": {},
   "outputs": [
    {
     "data": {
      "text/plain": [
       "'l'"
      ]
     },
     "execution_count": 61,
     "metadata": {},
     "output_type": "execute_result"
    }
   ],
   "source": [
    "a[3]"
   ]
  },
  {
   "cell_type": "code",
   "execution_count": 66,
   "id": "e456ddc8",
   "metadata": {},
   "outputs": [
    {
     "name": "stdout",
     "output_type": "stream",
     "text": [
      "s\n",
      "u\n",
      "n\n",
      "s\n",
      "h\n",
      "i\n",
      "n\n",
      "e\n"
     ]
    }
   ],
   "source": [
    "# as an iterable sequence\n",
    "\n",
    "for i in 'sunshine':\n",
    "    print(i)"
   ]
  },
  {
   "cell_type": "code",
   "execution_count": 74,
   "id": "49afa108",
   "metadata": {},
   "outputs": [
    {
     "data": {
      "text/plain": [
       "['My', 'name', 'is', 'Jim.']"
      ]
     },
     "execution_count": 74,
     "metadata": {},
     "output_type": "execute_result"
    }
   ],
   "source": [
    "a = \"My name is Jim.\"\n",
    "a.split()\n",
    "# what is a?\n",
    "# iterate through a\n",
    "a = a.split()\n",
    "a"
   ]
  },
  {
   "cell_type": "code",
   "execution_count": 71,
   "id": "1cf87ebb",
   "metadata": {},
   "outputs": [
    {
     "data": {
      "text/plain": [
       "<method 'split' of 'str' objects>"
      ]
     },
     "execution_count": 71,
     "metadata": {},
     "output_type": "execute_result"
    }
   ],
   "source": [
    "str.split"
   ]
  },
  {
   "cell_type": "code",
   "execution_count": 72,
   "id": "f19a9725",
   "metadata": {},
   "outputs": [
    {
     "ename": "TypeError",
     "evalue": "'str' object does not support item assignment",
     "output_type": "error",
     "traceback": [
      "\u001b[0;31m---------------------------------------------------------------------------\u001b[0m",
      "\u001b[0;31mTypeError\u001b[0m                                 Traceback (most recent call last)",
      "Cell \u001b[0;32mIn [72], line 2\u001b[0m\n\u001b[1;32m      1\u001b[0m x \u001b[38;5;241m=\u001b[39m \u001b[38;5;124m'\u001b[39m\u001b[38;5;124mred\u001b[39m\u001b[38;5;124m'\u001b[39m\n\u001b[0;32m----> 2\u001b[0m \u001b[43mx\u001b[49m\u001b[43m[\u001b[49m\u001b[38;5;241;43m0\u001b[39;49m\u001b[43m]\u001b[49m \u001b[38;5;241m=\u001b[39m \u001b[38;5;124m'\u001b[39m\u001b[38;5;124mb\u001b[39m\u001b[38;5;124m'\u001b[39m\n\u001b[1;32m      3\u001b[0m x\n",
      "\u001b[0;31mTypeError\u001b[0m: 'str' object does not support item assignment"
     ]
    }
   ],
   "source": [
    "x = 'red'\n",
    "x[0] = 'b'\n",
    "x"
   ]
  },
  {
   "cell_type": "code",
   "execution_count": 77,
   "id": "4880b6ab",
   "metadata": {},
   "outputs": [
    {
     "name": "stdout",
     "output_type": "stream",
     "text": [
      "True\n"
     ]
    }
   ],
   "source": [
    "if 'Jim' not in a:\n",
    "    print(True)\n",
    "if 'Kayla' in a:\n",
    "    print(True)"
   ]
  },
  {
   "cell_type": "code",
   "execution_count": 78,
   "id": "3c53f671",
   "metadata": {},
   "outputs": [
    {
     "data": {
      "text/plain": [
       "4"
      ]
     },
     "execution_count": 78,
     "metadata": {},
     "output_type": "execute_result"
    }
   ],
   "source": [
    "len(a)"
   ]
  },
  {
   "cell_type": "code",
   "execution_count": 79,
   "id": "572aca13",
   "metadata": {},
   "outputs": [
    {
     "name": "stdout",
     "output_type": "stream",
     "text": [
      "RED\n",
      "red\n",
      "and\n",
      "hey there\n",
      "You are new\n"
     ]
    }
   ],
   "source": [
    "print(x.upper())\n",
    "print(x)\n",
    "\n",
    "print('AND'.lower())\n",
    "\n",
    "print('   hey there'.strip())\n",
    "\n",
    "print('I am new'.replace('I am', 'You are'))"
   ]
  },
  {
   "cell_type": "code",
   "execution_count": 82,
   "id": "d3b9a3f6",
   "metadata": {},
   "outputs": [
    {
     "ename": "TypeError",
     "evalue": "can only concatenate str (not \"int\") to str",
     "output_type": "error",
     "traceback": [
      "\u001b[0;31m---------------------------------------------------------------------------\u001b[0m",
      "\u001b[0;31mTypeError\u001b[0m                                 Traceback (most recent call last)",
      "Cell \u001b[0;32mIn [82], line 2\u001b[0m\n\u001b[1;32m      1\u001b[0m x \u001b[38;5;241m+\u001b[39m \u001b[38;5;124m\"\u001b[39m\u001b[38;5;124mhello\u001b[39m\u001b[38;5;124m\"\u001b[39m\n\u001b[0;32m----> 2\u001b[0m \u001b[43mx\u001b[49m\u001b[43m \u001b[49m\u001b[38;5;241;43m+\u001b[39;49m\u001b[43m \u001b[49m\u001b[38;5;241;43m5\u001b[39;49m\n",
      "\u001b[0;31mTypeError\u001b[0m: can only concatenate str (not \"int\") to str"
     ]
    }
   ],
   "source": [
    "x + \"hello\"\n",
    "x + 5"
   ]
  },
  {
   "cell_type": "code",
   "execution_count": 83,
   "id": "52982c52",
   "metadata": {},
   "outputs": [
    {
     "name": "stdout",
     "output_type": "stream",
     "text": [
      "red 5\n",
      "Gia got a 70 on the Math test\n"
     ]
    }
   ],
   "source": [
    "x = \"red {}\"\n",
    "print(x.format(5))\n",
    "\n",
    "x = \"{} got a {} on the Math test\"\n",
    "print(x.format('Gia', '70'))"
   ]
  },
  {
   "cell_type": "code",
   "execution_count": 85,
   "id": "1f603b0a",
   "metadata": {},
   "outputs": [
    {
     "data": {
      "text/plain": [
       "\"there is a 'whirl' outside\""
      ]
     },
     "execution_count": 85,
     "metadata": {},
     "output_type": "execute_result"
    }
   ],
   "source": [
    "# esacape character\n",
    "\n",
    "a = 'there is a \\'whirl\\' outside'\n",
    "a"
   ]
  },
  {
   "cell_type": "code",
   "execution_count": 86,
   "id": "7b42869e",
   "metadata": {},
   "outputs": [
    {
     "name": "stdout",
     "output_type": "stream",
     "text": [
      "Enter a string tring\n",
      "tring\n",
      "Enter a string string\n",
      "<class 'str'>\n",
      "Enter a number 12.3\n",
      "<class 'str'>\n",
      "Enter a number 12\n",
      "<class 'int'>\n"
     ]
    }
   ],
   "source": [
    "a = input(\"Enter a string \")\n",
    "print(a)\n",
    "\n",
    "a = input(\"Enter a string \")\n",
    "print(type(a))\n",
    "\n",
    "a = input(\"Enter a number \")\n",
    "print(type(a))\n",
    "\n",
    "a = int(input(\"Enter a number \"))\n",
    "print(type(a))"
   ]
  },
  {
   "cell_type": "code",
   "execution_count": null,
   "id": "2abaa064",
   "metadata": {},
   "outputs": [],
   "source": [
    "str."
   ]
  },
  {
   "cell_type": "markdown",
   "id": "7b81a459",
   "metadata": {},
   "source": [
    "### Some Additional Numerical Operators"
   ]
  },
  {
   "cell_type": "code",
   "execution_count": 87,
   "id": "735e6462",
   "metadata": {},
   "outputs": [
    {
     "data": {
      "text/plain": [
       "0"
      ]
     },
     "execution_count": 87,
     "metadata": {},
     "output_type": "execute_result"
    }
   ],
   "source": [
    "10%2"
   ]
  },
  {
   "cell_type": "code",
   "execution_count": 88,
   "id": "6c9679f5",
   "metadata": {},
   "outputs": [
    {
     "data": {
      "text/plain": [
       "5"
      ]
     },
     "execution_count": 88,
     "metadata": {},
     "output_type": "execute_result"
    }
   ],
   "source": [
    "10//2"
   ]
  },
  {
   "cell_type": "code",
   "execution_count": null,
   "id": "89881c69",
   "metadata": {},
   "outputs": [],
   "source": [
    "10/2"
   ]
  },
  {
   "cell_type": "code",
   "execution_count": 89,
   "id": "b89c6d9c",
   "metadata": {},
   "outputs": [
    {
     "data": {
      "text/plain": [
       "2"
      ]
     },
     "execution_count": 89,
     "metadata": {},
     "output_type": "execute_result"
    }
   ],
   "source": [
    "5//2"
   ]
  },
  {
   "cell_type": "code",
   "execution_count": 92,
   "id": "a5f503fa",
   "metadata": {},
   "outputs": [
    {
     "data": {
      "text/plain": [
       "1"
      ]
     },
     "execution_count": 92,
     "metadata": {},
     "output_type": "execute_result"
    }
   ],
   "source": [
    "5%2\n",
    "1%2\n",
    "3%2"
   ]
  },
  {
   "cell_type": "markdown",
   "id": "27f52a6d",
   "metadata": {},
   "source": [
    "### Lists"
   ]
  },
  {
   "cell_type": "code",
   "execution_count": 93,
   "id": "9a19a8fb",
   "metadata": {},
   "outputs": [
    {
     "data": {
      "text/plain": [
       "['hello', 2.7, True, 3]"
      ]
     },
     "execution_count": 93,
     "metadata": {},
     "output_type": "execute_result"
    }
   ],
   "source": [
    "a = [1, 2, 3]\n",
    "a = ['hello', 2.7, True, 3]\n",
    "a"
   ]
  },
  {
   "cell_type": "code",
   "execution_count": 94,
   "id": "826c44b3",
   "metadata": {},
   "outputs": [
    {
     "data": {
      "text/plain": [
       "['Jim', ' was my name']"
      ]
     },
     "execution_count": 94,
     "metadata": {},
     "output_type": "execute_result"
    }
   ],
   "source": [
    "a = []\n",
    "a = \"Jim, was my name\"\n",
    "a.split(sep=',')"
   ]
  },
  {
   "cell_type": "code",
   "execution_count": 96,
   "id": "deadc32b",
   "metadata": {},
   "outputs": [
    {
     "data": {
      "text/plain": [
       "'hello,there'"
      ]
     },
     "execution_count": 96,
     "metadata": {},
     "output_type": "execute_result"
    }
   ],
   "source": [
    "a = ['hello', 2.7, True, 3]\n",
    "#''.join(a)\n",
    "\n",
    "a = ['hello', 'there']\n",
    "','.join(a)"
   ]
  },
  {
   "cell_type": "code",
   "execution_count": 98,
   "id": "03da1543",
   "metadata": {},
   "outputs": [
    {
     "data": {
      "text/plain": [
       "['hello', 'there']"
      ]
     },
     "execution_count": 98,
     "metadata": {},
     "output_type": "execute_result"
    }
   ],
   "source": [
    "a"
   ]
  },
  {
   "cell_type": "code",
   "execution_count": 101,
   "id": "2e88f1c3",
   "metadata": {},
   "outputs": [
    {
     "data": {
      "text/plain": [
       "['h', 'e', 'l', 'l', 'o']"
      ]
     },
     "execution_count": 101,
     "metadata": {},
     "output_type": "execute_result"
    }
   ],
   "source": [
    "list((1,2,3))\n",
    "\n",
    "list('hello')"
   ]
  },
  {
   "cell_type": "markdown",
   "id": "a3e01022",
   "metadata": {},
   "source": [
    "Indexing works in a similar fashion as with strings"
   ]
  },
  {
   "cell_type": "code",
   "execution_count": 102,
   "id": "880165a7",
   "metadata": {},
   "outputs": [
    {
     "data": {
      "text/plain": [
       "[3, 2, 1]"
      ]
     },
     "execution_count": 102,
     "metadata": {},
     "output_type": "execute_result"
    }
   ],
   "source": [
    "l = [1, 2, 3]\n",
    "l[0]\n",
    "l[0:]\n",
    "l[:2]\n",
    "l[::-1]"
   ]
  },
  {
   "cell_type": "code",
   "execution_count": 103,
   "id": "76d42651",
   "metadata": {},
   "outputs": [
    {
     "name": "stdout",
     "output_type": "stream",
     "text": [
      "True\n"
     ]
    }
   ],
   "source": [
    "if 1 in l:\n",
    "    print(True)"
   ]
  },
  {
   "cell_type": "code",
   "execution_count": null,
   "id": "53f3e835",
   "metadata": {},
   "outputs": [],
   "source": [
    "l[1] = 36\n",
    "l\n",
    "\n",
    "l[1:3] = 45, 32\n",
    "l\n",
    "\n",
    "l[1:2] = 2, 2\n",
    "l"
   ]
  },
  {
   "cell_type": "code",
   "execution_count": 104,
   "id": "c06bf29b",
   "metadata": {},
   "outputs": [
    {
     "data": {
      "text/plain": [
       "[1, 2, 3, 4, 5, 6]"
      ]
     },
     "execution_count": 104,
     "metadata": {},
     "output_type": "execute_result"
    }
   ],
   "source": [
    "m = [4,5,6]\n",
    "l+m"
   ]
  },
  {
   "cell_type": "code",
   "execution_count": 105,
   "id": "ad545c2e",
   "metadata": {},
   "outputs": [],
   "source": [
    "#l.insert(pos, item)\n",
    "\n",
    "#l.append(item)\n",
    "\n",
    "l.remove(1)\n",
    "\n",
    "# l.pop()\n",
    "\n",
    "# l.pop(1)\n",
    "\n",
    "# del l[-1]"
   ]
  },
  {
   "cell_type": "code",
   "execution_count": 106,
   "id": "f06ed4de",
   "metadata": {},
   "outputs": [
    {
     "data": {
      "text/plain": [
       "[2, 3]"
      ]
     },
     "execution_count": 106,
     "metadata": {},
     "output_type": "execute_result"
    }
   ],
   "source": [
    "l"
   ]
  },
  {
   "cell_type": "code",
   "execution_count": 107,
   "id": "109c5f42",
   "metadata": {},
   "outputs": [
    {
     "name": "stdout",
     "output_type": "stream",
     "text": [
      "2\n",
      "3\n"
     ]
    }
   ],
   "source": [
    "for i in l:\n",
    "    print(i)"
   ]
  },
  {
   "cell_type": "code",
   "execution_count": null,
   "id": "661648cf",
   "metadata": {},
   "outputs": [],
   "source": []
  },
  {
   "cell_type": "code",
   "execution_count": 108,
   "id": "40eb0811",
   "metadata": {},
   "outputs": [
    {
     "name": "stdout",
     "output_type": "stream",
     "text": [
      "[4, 9]\n"
     ]
    },
    {
     "data": {
      "text/plain": [
       "['lump', 'lump']"
      ]
     },
     "execution_count": 108,
     "metadata": {},
     "output_type": "execute_result"
    }
   ],
   "source": [
    "# List Comprehensions\n",
    "\n",
    "m = [i**2 for i in l]\n",
    "print(m)\n",
    "\n",
    "m = ['gift' if i**2>10 else 'lump' for i in l]\n",
    "m"
   ]
  },
  {
   "cell_type": "code",
   "execution_count": null,
   "id": "1110d504",
   "metadata": {},
   "outputs": [],
   "source": [
    "l.sort()"
   ]
  },
  {
   "cell_type": "code",
   "execution_count": 109,
   "id": "3e7ac5db",
   "metadata": {},
   "outputs": [],
   "source": [
    "# l[1] = 100\n",
    "# l.sort()\n",
    "# l\n",
    "\n",
    "l.sort(reverse = True)"
   ]
  },
  {
   "cell_type": "code",
   "execution_count": 110,
   "id": "69fc75f2",
   "metadata": {},
   "outputs": [
    {
     "data": {
      "text/plain": [
       "[3, 2]"
      ]
     },
     "execution_count": 110,
     "metadata": {},
     "output_type": "execute_result"
    }
   ],
   "source": [
    "l"
   ]
  },
  {
   "cell_type": "code",
   "execution_count": 111,
   "id": "503911cc",
   "metadata": {},
   "outputs": [
    {
     "data": {
      "text/plain": [
       "[3, 2]"
      ]
     },
     "execution_count": 111,
     "metadata": {},
     "output_type": "execute_result"
    }
   ],
   "source": [
    "l1 = l\n",
    "l1"
   ]
  },
  {
   "cell_type": "code",
   "execution_count": 112,
   "id": "4742392a",
   "metadata": {},
   "outputs": [
    {
     "data": {
      "text/plain": [
       "([3, 24], [3, 24])"
      ]
     },
     "execution_count": 112,
     "metadata": {},
     "output_type": "execute_result"
    }
   ],
   "source": [
    "l1[1] = 24\n",
    "l1, l\n",
    "\n",
    "# this is called referencing"
   ]
  },
  {
   "cell_type": "code",
   "execution_count": 113,
   "id": "9e7b48a1",
   "metadata": {},
   "outputs": [
    {
     "data": {
      "text/plain": [
       "([3, 36], [3, 24])"
      ]
     },
     "execution_count": 113,
     "metadata": {},
     "output_type": "execute_result"
    }
   ],
   "source": [
    "l1 = l.copy()\n",
    "l1[1] = 36\n",
    "l1,l"
   ]
  },
  {
   "cell_type": "code",
   "execution_count": null,
   "id": "450772da",
   "metadata": {},
   "outputs": [],
   "source": [
    "list."
   ]
  },
  {
   "cell_type": "markdown",
   "id": "a4aeaba4",
   "metadata": {},
   "source": [
    "### Dictionaries"
   ]
  },
  {
   "cell_type": "code",
   "execution_count": 114,
   "id": "4d9fbe49",
   "metadata": {},
   "outputs": [
    {
     "data": {
      "text/plain": [
       "{1: 'NYC', 2: 'NJ', 3: 'PA'}"
      ]
     },
     "execution_count": 114,
     "metadata": {},
     "output_type": "execute_result"
    }
   ],
   "source": [
    "d = {1: 'NYC', 2: 'NJ', 3: 'PA'}\n",
    "d"
   ]
  },
  {
   "cell_type": "code",
   "execution_count": 115,
   "id": "1092b869",
   "metadata": {},
   "outputs": [
    {
     "data": {
      "text/plain": [
       "'NYC'"
      ]
     },
     "execution_count": 115,
     "metadata": {},
     "output_type": "execute_result"
    }
   ],
   "source": [
    "d[1]\n",
    "\n",
    "# keys could be strings, numbers\n",
    "# duplicates?"
   ]
  },
  {
   "cell_type": "code",
   "execution_count": 116,
   "id": "7014e0ef",
   "metadata": {},
   "outputs": [
    {
     "data": {
      "text/plain": [
       "{0.1: 'nyc'}"
      ]
     },
     "execution_count": 116,
     "metadata": {},
     "output_type": "execute_result"
    }
   ],
   "source": [
    "d = {0.1: 'nyc'}\n",
    "d"
   ]
  },
  {
   "cell_type": "code",
   "execution_count": 117,
   "id": "1dd7ca80",
   "metadata": {},
   "outputs": [
    {
     "data": {
      "text/plain": [
       "1"
      ]
     },
     "execution_count": 117,
     "metadata": {},
     "output_type": "execute_result"
    }
   ],
   "source": [
    "len(d)"
   ]
  },
  {
   "cell_type": "code",
   "execution_count": 122,
   "id": "723021f6",
   "metadata": {},
   "outputs": [
    {
     "name": "stdout",
     "output_type": "stream",
     "text": [
      "3\n"
     ]
    },
    {
     "data": {
      "text/plain": [
       "dict_items([(1, 'NYC'), (2, 'NJ'), (3, 'PA')])"
      ]
     },
     "execution_count": 122,
     "metadata": {},
     "output_type": "execute_result"
    }
   ],
   "source": [
    "d = {1: 'NYC', 2: 'NJ', 3: 'PA'}\n",
    "d.get(1)\n",
    "\n",
    "d.keys()\n",
    "if i in d.keys():\n",
    "    print(i)\n",
    "\n",
    "d.values()\n",
    "d.items()"
   ]
  },
  {
   "cell_type": "code",
   "execution_count": 123,
   "id": "4815367b",
   "metadata": {},
   "outputs": [
    {
     "data": {
      "text/plain": [
       "{1: 'California', 2: 'NJ', 3: 'PA'}"
      ]
     },
     "execution_count": 123,
     "metadata": {},
     "output_type": "execute_result"
    }
   ],
   "source": [
    "d[1] = 'California'\n",
    "d"
   ]
  },
  {
   "cell_type": "code",
   "execution_count": 124,
   "id": "2a299d30",
   "metadata": {},
   "outputs": [
    {
     "data": {
      "text/plain": [
       "{1: 'California', 2: 'NJ', 3: 'PA', 4: 'VA'}"
      ]
     },
     "execution_count": 124,
     "metadata": {},
     "output_type": "execute_result"
    }
   ],
   "source": [
    "d[4] = 'VA'\n",
    "d"
   ]
  },
  {
   "cell_type": "code",
   "execution_count": null,
   "id": "602f72c3",
   "metadata": {},
   "outputs": [],
   "source": [
    "del d[4]\n",
    "d.pop(3)"
   ]
  },
  {
   "cell_type": "code",
   "execution_count": 125,
   "id": "41ff5828",
   "metadata": {},
   "outputs": [
    {
     "name": "stdout",
     "output_type": "stream",
     "text": [
      "1\n",
      "2\n",
      "3\n",
      "4\n"
     ]
    }
   ],
   "source": [
    "for i in d:\n",
    "    print(i)"
   ]
  },
  {
   "cell_type": "code",
   "execution_count": null,
   "id": "b023e0f9",
   "metadata": {},
   "outputs": [],
   "source": [
    "# nested dictionaries?\n",
    "# nested lists?"
   ]
  },
  {
   "cell_type": "code",
   "execution_count": null,
   "id": "322dc9c6",
   "metadata": {},
   "outputs": [],
   "source": [
    "dict."
   ]
  },
  {
   "cell_type": "markdown",
   "id": "d24f5a4d",
   "metadata": {},
   "source": [
    "### while loop"
   ]
  },
  {
   "cell_type": "code",
   "execution_count": 126,
   "id": "ff0d5b79",
   "metadata": {},
   "outputs": [
    {
     "name": "stdout",
     "output_type": "stream",
     "text": [
      "yes\n",
      "yes\n",
      "yes\n",
      "yes\n",
      "yes\n",
      "yes\n",
      "yes\n",
      "yes\n",
      "yes\n",
      "yes\n",
      "yes\n",
      "True\n"
     ]
    }
   ],
   "source": [
    "i = 0\n",
    "while(i<=10):\n",
    "    print('yes')\n",
    "    i+=1\n",
    "    \n",
    "# infinite loop\n",
    "\n",
    "# break & continue keywords\n",
    "\n",
    "# while-else\n",
    "\n",
    "while False:\n",
    "    print(True)\n",
    "else:\n",
    "    print(True)"
   ]
  },
  {
   "cell_type": "markdown",
   "id": "056c9781",
   "metadata": {},
   "source": [
    "### Functions"
   ]
  },
  {
   "cell_type": "code",
   "execution_count": 127,
   "id": "99106998",
   "metadata": {},
   "outputs": [],
   "source": [
    "def myfunc():\n",
    "    print(5)"
   ]
  },
  {
   "cell_type": "code",
   "execution_count": 128,
   "id": "d2524bbd",
   "metadata": {},
   "outputs": [
    {
     "name": "stdout",
     "output_type": "stream",
     "text": [
      "5\n"
     ]
    }
   ],
   "source": [
    "myfunc()"
   ]
  },
  {
   "cell_type": "code",
   "execution_count": 129,
   "id": "0461a6f8",
   "metadata": {},
   "outputs": [],
   "source": [
    "def myfunc2(a):\n",
    "    return a+10"
   ]
  },
  {
   "cell_type": "code",
   "execution_count": 130,
   "id": "5fc9a866",
   "metadata": {},
   "outputs": [
    {
     "data": {
      "text/plain": [
       "25"
      ]
     },
     "execution_count": 130,
     "metadata": {},
     "output_type": "execute_result"
    }
   ],
   "source": [
    "myfunc2(15)"
   ]
  },
  {
   "cell_type": "code",
   "execution_count": 131,
   "id": "3e040bcf",
   "metadata": {},
   "outputs": [
    {
     "data": {
      "text/plain": [
       "['hello', 'there']"
      ]
     },
     "execution_count": 131,
     "metadata": {},
     "output_type": "execute_result"
    }
   ],
   "source": [
    "# scope?\n",
    "a"
   ]
  },
  {
   "cell_type": "code",
   "execution_count": 132,
   "id": "da7b2814",
   "metadata": {},
   "outputs": [],
   "source": [
    "def myfunc3(a, b=10):\n",
    "    return a+b"
   ]
  },
  {
   "cell_type": "code",
   "execution_count": 133,
   "id": "a15b94a5",
   "metadata": {},
   "outputs": [
    {
     "data": {
      "text/plain": [
       "17"
      ]
     },
     "execution_count": 133,
     "metadata": {},
     "output_type": "execute_result"
    }
   ],
   "source": [
    "myfunc3(15)\n",
    "myfunc3(15,2)"
   ]
  },
  {
   "cell_type": "code",
   "execution_count": 134,
   "id": "e4ea6bdf",
   "metadata": {},
   "outputs": [
    {
     "ename": "SyntaxError",
     "evalue": "non-default argument follows default argument (2501509652.py, line 1)",
     "output_type": "error",
     "traceback": [
      "\u001b[0;36m  Cell \u001b[0;32mIn [134], line 1\u001b[0;36m\u001b[0m\n\u001b[0;31m    def myfunc3(a=10, b):\u001b[0m\n\u001b[0m                      ^\u001b[0m\n\u001b[0;31mSyntaxError\u001b[0m\u001b[0;31m:\u001b[0m non-default argument follows default argument\n"
     ]
    }
   ],
   "source": [
    "def myfunc3(a=10, b):\n",
    "    return a+b"
   ]
  },
  {
   "cell_type": "code",
   "execution_count": 135,
   "id": "81082187",
   "metadata": {},
   "outputs": [],
   "source": [
    "def myfunc4(l):\n",
    "    l[1]=2"
   ]
  },
  {
   "cell_type": "code",
   "execution_count": 136,
   "id": "936c62eb",
   "metadata": {},
   "outputs": [],
   "source": [
    "l = [0, 0, 0, 0]\n",
    "myfunc4(l)"
   ]
  },
  {
   "cell_type": "code",
   "execution_count": 137,
   "id": "b90e5414",
   "metadata": {},
   "outputs": [
    {
     "data": {
      "text/plain": [
       "[0, 2, 0, 0]"
      ]
     },
     "execution_count": 137,
     "metadata": {},
     "output_type": "execute_result"
    }
   ],
   "source": [
    "l"
   ]
  },
  {
   "cell_type": "markdown",
   "id": "04ebf155",
   "metadata": {},
   "source": [
    "### Anonymous function"
   ]
  },
  {
   "cell_type": "code",
   "execution_count": 139,
   "id": "8b0aed35",
   "metadata": {},
   "outputs": [],
   "source": [
    "x = lambda i: i**3"
   ]
  },
  {
   "cell_type": "code",
   "execution_count": 140,
   "id": "32cbd708",
   "metadata": {},
   "outputs": [
    {
     "data": {
      "text/plain": [
       "27"
      ]
     },
     "execution_count": 140,
     "metadata": {},
     "output_type": "execute_result"
    }
   ],
   "source": [
    "x(3)"
   ]
  },
  {
   "cell_type": "code",
   "execution_count": 142,
   "id": "50472f5d",
   "metadata": {},
   "outputs": [
    {
     "data": {
      "text/plain": [
       "[2, 4, 6]"
      ]
     },
     "execution_count": 142,
     "metadata": {},
     "output_type": "execute_result"
    }
   ],
   "source": [
    "# filter takes lambda function & a list\n",
    "l = [2, 3, 4, 5, 6]\n",
    "l_new = list(filter(lambda x: (x%2 == 0), l))\n",
    "l_new"
   ]
  },
  {
   "cell_type": "code",
   "execution_count": 144,
   "id": "2cd51741",
   "metadata": {},
   "outputs": [
    {
     "data": {
      "text/plain": [
       "[6, 7, 8, 9, 10]"
      ]
     },
     "execution_count": 144,
     "metadata": {},
     "output_type": "execute_result"
    }
   ],
   "source": [
    "# map takes lambda function & a list\n",
    "l_new = list(map(lambda x: x+4, l))\n",
    "l_new"
   ]
  },
  {
   "cell_type": "code",
   "execution_count": 145,
   "id": "48be83c8",
   "metadata": {},
   "outputs": [
    {
     "data": {
      "text/plain": [
       "20"
      ]
     },
     "execution_count": 145,
     "metadata": {},
     "output_type": "execute_result"
    }
   ],
   "source": [
    "# reduce takes lambda function & a list\n",
    "\n",
    "from functools import reduce\n",
    "\n",
    "l_new = reduce(lambda x,y: x+y, l)\n",
    "l_new"
   ]
  },
  {
   "cell_type": "code",
   "execution_count": null,
   "id": "0a455d04",
   "metadata": {},
   "outputs": [],
   "source": [
    "myfile = open('mer.txt', 'r')\n",
    "\n",
    "# r- read, w- write & overwrite, a- append\n",
    "\n",
    "# line = myfile.read()\n",
    "\n",
    "line = myfile.readline()\n",
    "\n",
    "# in case you want to write, myfile.write(\"....\")\n",
    "\n",
    "myfile.close()"
   ]
  },
  {
   "cell_type": "code",
   "execution_count": null,
   "id": "82dc5930",
   "metadata": {},
   "outputs": [],
   "source": [
    "# Remove outliers from your data. Consider outliers to be values beyond +/- 3 stdevs of your mean"
   ]
  },
  {
   "cell_type": "code",
   "execution_count": null,
   "id": "fc71b7f6",
   "metadata": {},
   "outputs": [],
   "source": []
  }
 ],
 "metadata": {
  "kernelspec": {
   "display_name": "Python 3 (ipykernel)",
   "language": "python",
   "name": "python3"
  },
  "language_info": {
   "codemirror_mode": {
    "name": "ipython",
    "version": 3
   },
   "file_extension": ".py",
   "mimetype": "text/x-python",
   "name": "python",
   "nbconvert_exporter": "python",
   "pygments_lexer": "ipython3",
   "version": "3.11.0"
  }
 },
 "nbformat": 4,
 "nbformat_minor": 5
}
